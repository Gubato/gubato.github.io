{
 "cells": [
  {
   "cell_type": "markdown",
   "id": "55bc768e",
   "metadata": {},
   "source": [
    "# Proyecto final - Luis G"
   ]
  },
  {
   "cell_type": "markdown",
   "id": "2b13fe03",
   "metadata": {},
   "source": [
    "- Enlace al Drive: https://drive.google.com/drive/folders/1eVDh31eZ0zU3M7SHic-7-tgXja4gU7Ry?usp=sharing\n",
    "- Enlace al Dashboard: https://public.tableau.com/app/profile/luis.gutierrez2670/viz/Dashboard_17469899994240/Dashboard1#2"
   ]
  },
  {
   "cell_type": "code",
   "execution_count": 59,
   "id": "2360db39",
   "metadata": {},
   "outputs": [],
   "source": [
    "# Importar librerias\n",
    "\n",
    "import pandas as pd\n",
    "import numpy as np\n",
    "\n",
    "from matplotlib import pyplot as plt\n",
    "from statsmodels.stats.proportion import proportions_ztest\n",
    "from scipy.stats import ttest_ind\n",
    "from scipy.stats import levene"
   ]
  },
  {
   "cell_type": "code",
   "execution_count": 60,
   "id": "b354ddfc",
   "metadata": {},
   "outputs": [],
   "source": [
    "# Importar datasets\n",
    "\n",
    "df_calls = pd.read_csv('telecom_dataset_us.csv')\n",
    "df_clients = pd.read_csv('telecom_clients_us.csv')"
   ]
  },
  {
   "cell_type": "markdown",
   "id": "488e098c",
   "metadata": {},
   "source": [
    "## Análisis inicial"
   ]
  },
  {
   "cell_type": "code",
   "execution_count": 61,
   "id": "71751785",
   "metadata": {},
   "outputs": [
    {
     "name": "stdout",
     "output_type": "stream",
     "text": [
      "<class 'pandas.core.frame.DataFrame'>\n",
      "RangeIndex: 53902 entries, 0 to 53901\n",
      "Data columns (total 9 columns):\n",
      " #   Column               Non-Null Count  Dtype  \n",
      "---  ------               --------------  -----  \n",
      " 0   user_id              53902 non-null  int64  \n",
      " 1   date                 53902 non-null  object \n",
      " 2   direction            53902 non-null  object \n",
      " 3   internal             53785 non-null  object \n",
      " 4   operator_id          45730 non-null  float64\n",
      " 5   is_missed_call       53902 non-null  bool   \n",
      " 6   calls_count          53902 non-null  int64  \n",
      " 7   call_duration        53902 non-null  int64  \n",
      " 8   total_call_duration  53902 non-null  int64  \n",
      "dtypes: bool(1), float64(1), int64(4), object(3)\n",
      "memory usage: 3.3+ MB\n"
     ]
    }
   ],
   "source": [
    "df_calls.info()"
   ]
  },
  {
   "cell_type": "code",
   "execution_count": 62,
   "id": "9b096191",
   "metadata": {},
   "outputs": [
    {
     "data": {
      "application/vnd.microsoft.datawrangler.viewer.v0+json": {
       "columns": [
        {
         "name": "index",
         "rawType": "int64",
         "type": "integer"
        },
        {
         "name": "user_id",
         "rawType": "int64",
         "type": "integer"
        },
        {
         "name": "date",
         "rawType": "object",
         "type": "string"
        },
        {
         "name": "direction",
         "rawType": "object",
         "type": "string"
        },
        {
         "name": "internal",
         "rawType": "object",
         "type": "unknown"
        },
        {
         "name": "operator_id",
         "rawType": "float64",
         "type": "float"
        },
        {
         "name": "is_missed_call",
         "rawType": "bool",
         "type": "boolean"
        },
        {
         "name": "calls_count",
         "rawType": "int64",
         "type": "integer"
        },
        {
         "name": "call_duration",
         "rawType": "int64",
         "type": "integer"
        },
        {
         "name": "total_call_duration",
         "rawType": "int64",
         "type": "integer"
        }
       ],
       "conversionMethod": "pd.DataFrame",
       "ref": "ebf89cb9-0e43-4171-be9d-1ad30e29f22f",
       "rows": [
        [
         "9385",
         "166658",
         "2019-10-29 00:00:00+03:00",
         "out",
         "False",
         "890410.0",
         "True",
         "4",
         "0",
         "138"
        ],
        [
         "53812",
         "168601",
         "2019-11-04 00:00:00+03:00",
         "out",
         "False",
         "952914.0",
         "False",
         "2",
         "68",
         "96"
        ],
        [
         "21587",
         "167035",
         "2019-10-29 00:00:00+03:00",
         "in",
         "False",
         null,
         "True",
         "5",
         "0",
         "47"
        ],
        [
         "8425",
         "166658",
         "2019-09-12 00:00:00+03:00",
         "out",
         "False",
         "891160.0",
         "False",
         "2",
         "512",
         "565"
        ],
        [
         "21198",
         "167016",
         "2019-11-25 00:00:00+03:00",
         "out",
         "False",
         "962902.0",
         "False",
         "30",
         "1038",
         "1581"
        ]
       ],
       "shape": {
        "columns": 9,
        "rows": 5
       }
      },
      "text/html": [
       "<div>\n",
       "<style scoped>\n",
       "    .dataframe tbody tr th:only-of-type {\n",
       "        vertical-align: middle;\n",
       "    }\n",
       "\n",
       "    .dataframe tbody tr th {\n",
       "        vertical-align: top;\n",
       "    }\n",
       "\n",
       "    .dataframe thead th {\n",
       "        text-align: right;\n",
       "    }\n",
       "</style>\n",
       "<table border=\"1\" class=\"dataframe\">\n",
       "  <thead>\n",
       "    <tr style=\"text-align: right;\">\n",
       "      <th></th>\n",
       "      <th>user_id</th>\n",
       "      <th>date</th>\n",
       "      <th>direction</th>\n",
       "      <th>internal</th>\n",
       "      <th>operator_id</th>\n",
       "      <th>is_missed_call</th>\n",
       "      <th>calls_count</th>\n",
       "      <th>call_duration</th>\n",
       "      <th>total_call_duration</th>\n",
       "    </tr>\n",
       "  </thead>\n",
       "  <tbody>\n",
       "    <tr>\n",
       "      <th>9385</th>\n",
       "      <td>166658</td>\n",
       "      <td>2019-10-29 00:00:00+03:00</td>\n",
       "      <td>out</td>\n",
       "      <td>False</td>\n",
       "      <td>890410.0</td>\n",
       "      <td>True</td>\n",
       "      <td>4</td>\n",
       "      <td>0</td>\n",
       "      <td>138</td>\n",
       "    </tr>\n",
       "    <tr>\n",
       "      <th>53812</th>\n",
       "      <td>168601</td>\n",
       "      <td>2019-11-04 00:00:00+03:00</td>\n",
       "      <td>out</td>\n",
       "      <td>False</td>\n",
       "      <td>952914.0</td>\n",
       "      <td>False</td>\n",
       "      <td>2</td>\n",
       "      <td>68</td>\n",
       "      <td>96</td>\n",
       "    </tr>\n",
       "    <tr>\n",
       "      <th>21587</th>\n",
       "      <td>167035</td>\n",
       "      <td>2019-10-29 00:00:00+03:00</td>\n",
       "      <td>in</td>\n",
       "      <td>False</td>\n",
       "      <td>NaN</td>\n",
       "      <td>True</td>\n",
       "      <td>5</td>\n",
       "      <td>0</td>\n",
       "      <td>47</td>\n",
       "    </tr>\n",
       "    <tr>\n",
       "      <th>8425</th>\n",
       "      <td>166658</td>\n",
       "      <td>2019-09-12 00:00:00+03:00</td>\n",
       "      <td>out</td>\n",
       "      <td>False</td>\n",
       "      <td>891160.0</td>\n",
       "      <td>False</td>\n",
       "      <td>2</td>\n",
       "      <td>512</td>\n",
       "      <td>565</td>\n",
       "    </tr>\n",
       "    <tr>\n",
       "      <th>21198</th>\n",
       "      <td>167016</td>\n",
       "      <td>2019-11-25 00:00:00+03:00</td>\n",
       "      <td>out</td>\n",
       "      <td>False</td>\n",
       "      <td>962902.0</td>\n",
       "      <td>False</td>\n",
       "      <td>30</td>\n",
       "      <td>1038</td>\n",
       "      <td>1581</td>\n",
       "    </tr>\n",
       "  </tbody>\n",
       "</table>\n",
       "</div>"
      ],
      "text/plain": [
       "       user_id                       date direction internal  operator_id  \\\n",
       "9385    166658  2019-10-29 00:00:00+03:00       out    False     890410.0   \n",
       "53812   168601  2019-11-04 00:00:00+03:00       out    False     952914.0   \n",
       "21587   167035  2019-10-29 00:00:00+03:00        in    False          NaN   \n",
       "8425    166658  2019-09-12 00:00:00+03:00       out    False     891160.0   \n",
       "21198   167016  2019-11-25 00:00:00+03:00       out    False     962902.0   \n",
       "\n",
       "       is_missed_call  calls_count  call_duration  total_call_duration  \n",
       "9385             True            4              0                  138  \n",
       "53812           False            2             68                   96  \n",
       "21587            True            5              0                   47  \n",
       "8425            False            2            512                  565  \n",
       "21198           False           30           1038                 1581  "
      ]
     },
     "execution_count": 62,
     "metadata": {},
     "output_type": "execute_result"
    }
   ],
   "source": [
    "df_calls.sample(5)"
   ]
  },
  {
   "cell_type": "markdown",
   "id": "4013694a",
   "metadata": {},
   "source": [
    "- Valores ausentes en internal y id de operador\n",
    "- Cambiar columna de date a datatime\n",
    "- Extraer mes, año y/o día según la temporalidad de los datos\n",
    "- Extraer la diferencia entre la duración de la llamada y el tiempo total de la llamada, para saber el tiempo de espera antes de contestar\n",
    "- El id de operador podría ser datatype int, pero seguro por los valores ausentes se coloca como float\n",
    "- Columna internal podria ser tipo bool"
   ]
  },
  {
   "cell_type": "code",
   "execution_count": 63,
   "id": "b4b540fd",
   "metadata": {},
   "outputs": [
    {
     "name": "stdout",
     "output_type": "stream",
     "text": [
      "<class 'pandas.core.frame.DataFrame'>\n",
      "RangeIndex: 732 entries, 0 to 731\n",
      "Data columns (total 3 columns):\n",
      " #   Column       Non-Null Count  Dtype \n",
      "---  ------       --------------  ----- \n",
      " 0   user_id      732 non-null    int64 \n",
      " 1   tariff_plan  732 non-null    object\n",
      " 2   date_start   732 non-null    object\n",
      "dtypes: int64(1), object(2)\n",
      "memory usage: 17.3+ KB\n"
     ]
    }
   ],
   "source": [
    "df_clients.info()"
   ]
  },
  {
   "cell_type": "code",
   "execution_count": 64,
   "id": "0774096d",
   "metadata": {},
   "outputs": [
    {
     "data": {
      "application/vnd.microsoft.datawrangler.viewer.v0+json": {
       "columns": [
        {
         "name": "index",
         "rawType": "int64",
         "type": "integer"
        },
        {
         "name": "user_id",
         "rawType": "int64",
         "type": "integer"
        },
        {
         "name": "tariff_plan",
         "rawType": "object",
         "type": "string"
        },
        {
         "name": "date_start",
         "rawType": "object",
         "type": "string"
        }
       ],
       "conversionMethod": "pd.DataFrame",
       "ref": "f909bbb3-83a9-4ca4-96a7-bf339245c6da",
       "rows": [
        [
         "597",
         "167115",
         "B",
         "2019-09-02"
        ],
        [
         "4",
         "168193",
         "A",
         "2019-10-16"
        ],
        [
         "699",
         "167384",
         "B",
         "2019-09-13"
        ],
        [
         "531",
         "168315",
         "B",
         "2019-10-21"
        ],
        [
         "88",
         "168185",
         "C",
         "2019-10-16"
        ]
       ],
       "shape": {
        "columns": 3,
        "rows": 5
       }
      },
      "text/html": [
       "<div>\n",
       "<style scoped>\n",
       "    .dataframe tbody tr th:only-of-type {\n",
       "        vertical-align: middle;\n",
       "    }\n",
       "\n",
       "    .dataframe tbody tr th {\n",
       "        vertical-align: top;\n",
       "    }\n",
       "\n",
       "    .dataframe thead th {\n",
       "        text-align: right;\n",
       "    }\n",
       "</style>\n",
       "<table border=\"1\" class=\"dataframe\">\n",
       "  <thead>\n",
       "    <tr style=\"text-align: right;\">\n",
       "      <th></th>\n",
       "      <th>user_id</th>\n",
       "      <th>tariff_plan</th>\n",
       "      <th>date_start</th>\n",
       "    </tr>\n",
       "  </thead>\n",
       "  <tbody>\n",
       "    <tr>\n",
       "      <th>597</th>\n",
       "      <td>167115</td>\n",
       "      <td>B</td>\n",
       "      <td>2019-09-02</td>\n",
       "    </tr>\n",
       "    <tr>\n",
       "      <th>4</th>\n",
       "      <td>168193</td>\n",
       "      <td>A</td>\n",
       "      <td>2019-10-16</td>\n",
       "    </tr>\n",
       "    <tr>\n",
       "      <th>699</th>\n",
       "      <td>167384</td>\n",
       "      <td>B</td>\n",
       "      <td>2019-09-13</td>\n",
       "    </tr>\n",
       "    <tr>\n",
       "      <th>531</th>\n",
       "      <td>168315</td>\n",
       "      <td>B</td>\n",
       "      <td>2019-10-21</td>\n",
       "    </tr>\n",
       "    <tr>\n",
       "      <th>88</th>\n",
       "      <td>168185</td>\n",
       "      <td>C</td>\n",
       "      <td>2019-10-16</td>\n",
       "    </tr>\n",
       "  </tbody>\n",
       "</table>\n",
       "</div>"
      ],
      "text/plain": [
       "     user_id tariff_plan  date_start\n",
       "597   167115           B  2019-09-02\n",
       "4     168193           A  2019-10-16\n",
       "699   167384           B  2019-09-13\n",
       "531   168315           B  2019-10-21\n",
       "88    168185           C  2019-10-16"
      ]
     },
     "execution_count": 64,
     "metadata": {},
     "output_type": "execute_result"
    }
   ],
   "source": [
    "df_clients.sample(5)"
   ]
  },
  {
   "cell_type": "markdown",
   "id": "b913e24e",
   "metadata": {},
   "source": [
    "- Cambiar columna date_start a datatime"
   ]
  },
  {
   "cell_type": "markdown",
   "id": "a78e8936",
   "metadata": {},
   "source": [
    "## Preprocesamiento de datos"
   ]
  },
  {
   "cell_type": "markdown",
   "id": "78d1e5b4",
   "metadata": {},
   "source": [
    "### Dataframe calls"
   ]
  },
  {
   "cell_type": "code",
   "execution_count": 65,
   "id": "02a4d5f9",
   "metadata": {},
   "outputs": [
    {
     "data": {
      "application/vnd.microsoft.datawrangler.viewer.v0+json": {
       "columns": [
        {
         "name": "index",
         "rawType": "int64",
         "type": "integer"
        },
        {
         "name": "user_id",
         "rawType": "int64",
         "type": "integer"
        },
        {
         "name": "date",
         "rawType": "datetime64[ns]",
         "type": "datetime"
        },
        {
         "name": "direction",
         "rawType": "object",
         "type": "string"
        },
        {
         "name": "internal",
         "rawType": "object",
         "type": "unknown"
        },
        {
         "name": "operator_id",
         "rawType": "float64",
         "type": "float"
        },
        {
         "name": "is_missed_call",
         "rawType": "bool",
         "type": "boolean"
        },
        {
         "name": "calls_count",
         "rawType": "int64",
         "type": "integer"
        },
        {
         "name": "call_duration",
         "rawType": "int64",
         "type": "integer"
        },
        {
         "name": "total_call_duration",
         "rawType": "int64",
         "type": "integer"
        }
       ],
       "conversionMethod": "pd.DataFrame",
       "ref": "4be25e7d-8a0c-4042-b591-2d0e68065998",
       "rows": [
        [
         "1007",
         "166405",
         "2019-09-18 00:00:00",
         "in",
         null,
         null,
         "True",
         "1",
         "0",
         "59"
        ],
        [
         "1090",
         "166405",
         "2019-10-01 00:00:00",
         "in",
         null,
         null,
         "True",
         "1",
         "0",
         "1"
        ],
        [
         "1864",
         "166406",
         "2019-08-20 00:00:00",
         "in",
         null,
         null,
         "True",
         "1",
         "0",
         "36"
        ],
        [
         "1924",
         "166406",
         "2019-09-02 00:00:00",
         "in",
         null,
         "879898.0",
         "False",
         "1",
         "2",
         "9"
        ],
        [
         "6210",
         "166541",
         "2019-09-26 00:00:00",
         "in",
         null,
         "908960.0",
         "False",
         "1",
         "393",
         "423"
        ],
        [
         "6216",
         "166541",
         "2019-09-26 00:00:00",
         "in",
         null,
         "908958.0",
         "False",
         "2",
         "547",
         "612"
        ],
        [
         "7523",
         "166604",
         "2019-10-31 00:00:00",
         "in",
         null,
         null,
         "True",
         "1",
         "0",
         "5"
        ],
        [
         "7528",
         "166604",
         "2019-11-01 00:00:00",
         "in",
         null,
         "893402.0",
         "False",
         "1",
         "94",
         "117"
        ],
        [
         "8650",
         "166658",
         "2019-09-24 00:00:00",
         "in",
         null,
         "890404.0",
         "False",
         "1",
         "150",
         "157"
        ],
        [
         "9080",
         "166658",
         "2019-10-15 00:00:00",
         "in",
         null,
         "890404.0",
         "False",
         "1",
         "51",
         "57"
        ],
        [
         "15046",
         "166884",
         "2019-08-30 00:00:00",
         "in",
         null,
         null,
         "True",
         "36",
         "0",
         "4"
        ],
        [
         "15055",
         "166884",
         "2019-09-02 00:00:00",
         "in",
         null,
         null,
         "True",
         "7",
         "0",
         "2"
        ],
        [
         "15093",
         "166884",
         "2019-09-17 00:00:00",
         "in",
         null,
         null,
         "True",
         "21",
         "0",
         "9"
        ],
        [
         "15136",
         "166884",
         "2019-10-16 00:00:00",
         "in",
         null,
         null,
         "True",
         "15",
         "0",
         "10"
        ],
        [
         "16180",
         "166916",
         "2019-10-01 00:00:00",
         "in",
         null,
         "906396.0",
         "False",
         "1",
         "100",
         "117"
        ],
        [
         "16304",
         "166916",
         "2019-10-07 00:00:00",
         "in",
         null,
         "906406.0",
         "False",
         "3",
         "378",
         "461"
        ],
        [
         "16569",
         "166916",
         "2019-10-23 00:00:00",
         "in",
         null,
         "906400.0",
         "False",
         "1",
         "81",
         "110"
        ],
        [
         "18647",
         "166983",
         "2019-09-02 00:00:00",
         "in",
         null,
         "901880.0",
         "False",
         "1",
         "119",
         "127"
        ],
        [
         "19497",
         "166983",
         "2019-11-14 00:00:00",
         "in",
         null,
         "901880.0",
         "False",
         "1",
         "208",
         "210"
        ],
        [
         "19970",
         "166997",
         "2019-09-21 00:00:00",
         "in",
         null,
         "903312.0",
         "False",
         "1",
         "91",
         "107"
        ],
        [
         "20078",
         "166997",
         "2019-10-01 00:00:00",
         "in",
         null,
         "905432.0",
         "False",
         "1",
         "159",
         "164"
        ],
        [
         "20168",
         "166997",
         "2019-10-13 00:00:00",
         "in",
         null,
         "903312.0",
         "False",
         "1",
         "78",
         "82"
        ],
        [
         "20904",
         "167011",
         "2019-09-13 00:00:00",
         "in",
         null,
         null,
         "True",
         "1",
         "0",
         "7"
        ],
        [
         "21004",
         "167016",
         "2019-10-23 00:00:00",
         "out",
         null,
         null,
         "True",
         "3",
         "0",
         "196"
        ],
        [
         "21716",
         "167035",
         "2019-11-17 00:00:00",
         "in",
         null,
         "923526.0",
         "False",
         "1",
         "68",
         "77"
        ],
        [
         "23183",
         "167078",
         "2019-11-13 00:00:00",
         "in",
         null,
         "935348.0",
         "False",
         "2",
         "73",
         "84"
        ],
        [
         "23822",
         "167109",
         "2019-09-25 00:00:00",
         "in",
         null,
         "906294.0",
         "False",
         "1",
         "23",
         "27"
        ],
        [
         "24477",
         "167110",
         "2019-09-11 00:00:00",
         "in",
         null,
         null,
         "True",
         "1",
         "0",
         "4"
        ],
        [
         "24489",
         "167110",
         "2019-09-19 00:00:00",
         "in",
         null,
         null,
         "True",
         "1",
         "0",
         "5"
        ],
        [
         "24493",
         "167110",
         "2019-09-20 00:00:00",
         "in",
         null,
         null,
         "True",
         "1",
         "0",
         "4"
        ],
        [
         "24494",
         "167110",
         "2019-09-23 00:00:00",
         "in",
         null,
         null,
         "True",
         "1",
         "0",
         "12"
        ],
        [
         "24497",
         "167110",
         "2019-09-23 00:00:00",
         "in",
         null,
         null,
         "True",
         "1",
         "0",
         "12"
        ],
        [
         "24500",
         "167110",
         "2019-10-11 00:00:00",
         "in",
         null,
         null,
         "True",
         "2",
         "0",
         "8"
        ],
        [
         "24505",
         "167110",
         "2019-10-16 00:00:00",
         "in",
         null,
         null,
         "True",
         "1",
         "0",
         "4"
        ],
        [
         "24508",
         "167110",
         "2019-11-07 00:00:00",
         "in",
         null,
         null,
         "True",
         "2",
         "0",
         "10"
        ],
        [
         "24509",
         "167110",
         "2019-11-08 00:00:00",
         "in",
         null,
         null,
         "True",
         "2",
         "0",
         "9"
        ],
        [
         "24513",
         "167110",
         "2019-11-12 00:00:00",
         "in",
         null,
         null,
         "True",
         "1",
         "0",
         "4"
        ],
        [
         "25139",
         "167125",
         "2019-09-26 00:00:00",
         "in",
         null,
         null,
         "True",
         "1",
         "0",
         "22"
        ],
        [
         "29569",
         "167246",
         "2019-10-18 00:00:00",
         "in",
         null,
         "908082.0",
         "False",
         "1",
         "7",
         "21"
        ],
        [
         "29571",
         "167246",
         "2019-10-18 00:00:00",
         "in",
         null,
         "908082.0",
         "False",
         "1",
         "7",
         "21"
        ],
        [
         "29741",
         "167264",
         "2019-10-14 00:00:00",
         "in",
         null,
         "919554.0",
         "False",
         "1",
         "202",
         "243"
        ],
        [
         "29887",
         "167264",
         "2019-11-15 00:00:00",
         "in",
         null,
         "919552.0",
         "False",
         "1",
         "125",
         "158"
        ],
        [
         "29912",
         "167264",
         "2019-11-21 00:00:00",
         "in",
         null,
         "919552.0",
         "False",
         "1",
         "55",
         "80"
        ],
        [
         "29985",
         "167272",
         "2019-10-09 00:00:00",
         "in",
         null,
         "910018.0",
         "False",
         "1",
         "115",
         "135"
        ],
        [
         "29986",
         "167272",
         "2019-10-09 00:00:00",
         "in",
         null,
         null,
         "True",
         "1",
         "0",
         "8"
        ],
        [
         "29989",
         "167272",
         "2019-10-09 00:00:00",
         "in",
         null,
         "912684.0",
         "False",
         "1",
         "123",
         "175"
        ],
        [
         "29991",
         "167272",
         "2019-10-09 00:00:00",
         "in",
         null,
         "912684.0",
         "False",
         "1",
         "123",
         "175"
        ],
        [
         "30048",
         "167272",
         "2019-11-25 00:00:00",
         "in",
         null,
         null,
         "True",
         "1",
         "0",
         "4"
        ],
        [
         "30249",
         "167286",
         "2019-10-31 00:00:00",
         "in",
         null,
         "910540.0",
         "False",
         "1",
         "11",
         "30"
        ],
        [
         "32590",
         "167466",
         "2019-11-26 00:00:00",
         "in",
         null,
         "921818.0",
         "False",
         "1",
         "15",
         "81"
        ]
       ],
       "shape": {
        "columns": 9,
        "rows": 117
       }
      },
      "text/html": [
       "<div>\n",
       "<style scoped>\n",
       "    .dataframe tbody tr th:only-of-type {\n",
       "        vertical-align: middle;\n",
       "    }\n",
       "\n",
       "    .dataframe tbody tr th {\n",
       "        vertical-align: top;\n",
       "    }\n",
       "\n",
       "    .dataframe thead th {\n",
       "        text-align: right;\n",
       "    }\n",
       "</style>\n",
       "<table border=\"1\" class=\"dataframe\">\n",
       "  <thead>\n",
       "    <tr style=\"text-align: right;\">\n",
       "      <th></th>\n",
       "      <th>user_id</th>\n",
       "      <th>date</th>\n",
       "      <th>direction</th>\n",
       "      <th>internal</th>\n",
       "      <th>operator_id</th>\n",
       "      <th>is_missed_call</th>\n",
       "      <th>calls_count</th>\n",
       "      <th>call_duration</th>\n",
       "      <th>total_call_duration</th>\n",
       "    </tr>\n",
       "  </thead>\n",
       "  <tbody>\n",
       "    <tr>\n",
       "      <th>1007</th>\n",
       "      <td>166405</td>\n",
       "      <td>2019-09-18</td>\n",
       "      <td>in</td>\n",
       "      <td>NaN</td>\n",
       "      <td>NaN</td>\n",
       "      <td>True</td>\n",
       "      <td>1</td>\n",
       "      <td>0</td>\n",
       "      <td>59</td>\n",
       "    </tr>\n",
       "    <tr>\n",
       "      <th>1090</th>\n",
       "      <td>166405</td>\n",
       "      <td>2019-10-01</td>\n",
       "      <td>in</td>\n",
       "      <td>NaN</td>\n",
       "      <td>NaN</td>\n",
       "      <td>True</td>\n",
       "      <td>1</td>\n",
       "      <td>0</td>\n",
       "      <td>1</td>\n",
       "    </tr>\n",
       "    <tr>\n",
       "      <th>1864</th>\n",
       "      <td>166406</td>\n",
       "      <td>2019-08-20</td>\n",
       "      <td>in</td>\n",
       "      <td>NaN</td>\n",
       "      <td>NaN</td>\n",
       "      <td>True</td>\n",
       "      <td>1</td>\n",
       "      <td>0</td>\n",
       "      <td>36</td>\n",
       "    </tr>\n",
       "    <tr>\n",
       "      <th>1924</th>\n",
       "      <td>166406</td>\n",
       "      <td>2019-09-02</td>\n",
       "      <td>in</td>\n",
       "      <td>NaN</td>\n",
       "      <td>879898.0</td>\n",
       "      <td>False</td>\n",
       "      <td>1</td>\n",
       "      <td>2</td>\n",
       "      <td>9</td>\n",
       "    </tr>\n",
       "    <tr>\n",
       "      <th>6210</th>\n",
       "      <td>166541</td>\n",
       "      <td>2019-09-26</td>\n",
       "      <td>in</td>\n",
       "      <td>NaN</td>\n",
       "      <td>908960.0</td>\n",
       "      <td>False</td>\n",
       "      <td>1</td>\n",
       "      <td>393</td>\n",
       "      <td>423</td>\n",
       "    </tr>\n",
       "    <tr>\n",
       "      <th>...</th>\n",
       "      <td>...</td>\n",
       "      <td>...</td>\n",
       "      <td>...</td>\n",
       "      <td>...</td>\n",
       "      <td>...</td>\n",
       "      <td>...</td>\n",
       "      <td>...</td>\n",
       "      <td>...</td>\n",
       "      <td>...</td>\n",
       "    </tr>\n",
       "    <tr>\n",
       "      <th>52462</th>\n",
       "      <td>168361</td>\n",
       "      <td>2019-11-09</td>\n",
       "      <td>in</td>\n",
       "      <td>NaN</td>\n",
       "      <td>NaN</td>\n",
       "      <td>True</td>\n",
       "      <td>6</td>\n",
       "      <td>0</td>\n",
       "      <td>14</td>\n",
       "    </tr>\n",
       "    <tr>\n",
       "      <th>52590</th>\n",
       "      <td>168361</td>\n",
       "      <td>2019-11-13</td>\n",
       "      <td>in</td>\n",
       "      <td>NaN</td>\n",
       "      <td>NaN</td>\n",
       "      <td>True</td>\n",
       "      <td>2</td>\n",
       "      <td>0</td>\n",
       "      <td>6</td>\n",
       "    </tr>\n",
       "    <tr>\n",
       "      <th>52621</th>\n",
       "      <td>168361</td>\n",
       "      <td>2019-11-14</td>\n",
       "      <td>in</td>\n",
       "      <td>NaN</td>\n",
       "      <td>NaN</td>\n",
       "      <td>True</td>\n",
       "      <td>1</td>\n",
       "      <td>0</td>\n",
       "      <td>2</td>\n",
       "    </tr>\n",
       "    <tr>\n",
       "      <th>53717</th>\n",
       "      <td>168579</td>\n",
       "      <td>2019-11-09</td>\n",
       "      <td>in</td>\n",
       "      <td>NaN</td>\n",
       "      <td>NaN</td>\n",
       "      <td>True</td>\n",
       "      <td>1</td>\n",
       "      <td>0</td>\n",
       "      <td>18</td>\n",
       "    </tr>\n",
       "    <tr>\n",
       "      <th>53799</th>\n",
       "      <td>168598</td>\n",
       "      <td>2019-11-22</td>\n",
       "      <td>in</td>\n",
       "      <td>NaN</td>\n",
       "      <td>958394.0</td>\n",
       "      <td>False</td>\n",
       "      <td>1</td>\n",
       "      <td>11</td>\n",
       "      <td>17</td>\n",
       "    </tr>\n",
       "  </tbody>\n",
       "</table>\n",
       "<p>117 rows × 9 columns</p>\n",
       "</div>"
      ],
      "text/plain": [
       "       user_id       date direction internal  operator_id  is_missed_call  \\\n",
       "1007    166405 2019-09-18        in      NaN          NaN            True   \n",
       "1090    166405 2019-10-01        in      NaN          NaN            True   \n",
       "1864    166406 2019-08-20        in      NaN          NaN            True   \n",
       "1924    166406 2019-09-02        in      NaN     879898.0           False   \n",
       "6210    166541 2019-09-26        in      NaN     908960.0           False   \n",
       "...        ...        ...       ...      ...          ...             ...   \n",
       "52462   168361 2019-11-09        in      NaN          NaN            True   \n",
       "52590   168361 2019-11-13        in      NaN          NaN            True   \n",
       "52621   168361 2019-11-14        in      NaN          NaN            True   \n",
       "53717   168579 2019-11-09        in      NaN          NaN            True   \n",
       "53799   168598 2019-11-22        in      NaN     958394.0           False   \n",
       "\n",
       "       calls_count  call_duration  total_call_duration  \n",
       "1007             1              0                   59  \n",
       "1090             1              0                    1  \n",
       "1864             1              0                   36  \n",
       "1924             1              2                    9  \n",
       "6210             1            393                  423  \n",
       "...            ...            ...                  ...  \n",
       "52462            6              0                   14  \n",
       "52590            2              0                    6  \n",
       "52621            1              0                    2  \n",
       "53717            1              0                   18  \n",
       "53799            1             11                   17  \n",
       "\n",
       "[117 rows x 9 columns]"
      ]
     },
     "execution_count": 65,
     "metadata": {},
     "output_type": "execute_result"
    }
   ],
   "source": [
    "# Columna date\n",
    "\n",
    "df_calls['date'] = pd.to_datetime(df_calls['date']).dt.tz_localize(None)\n",
    "\n",
    "# Valores ausentes internal\n",
    "\n",
    "df_calls[df_calls['internal'].isna()]"
   ]
  },
  {
   "cell_type": "markdown",
   "id": "f081a95f",
   "metadata": {},
   "source": [
    "- Quitaremos las 117 filas que no tienen valor en la columna internal"
   ]
  },
  {
   "cell_type": "code",
   "execution_count": 66,
   "id": "6f0be2c0",
   "metadata": {},
   "outputs": [
    {
     "data": {
      "application/vnd.microsoft.datawrangler.viewer.v0+json": {
       "columns": [
        {
         "name": "index",
         "rawType": "int64",
         "type": "integer"
        },
        {
         "name": "user_id",
         "rawType": "int64",
         "type": "integer"
        },
        {
         "name": "date",
         "rawType": "datetime64[ns]",
         "type": "datetime"
        },
        {
         "name": "direction",
         "rawType": "object",
         "type": "string"
        },
        {
         "name": "internal",
         "rawType": "object",
         "type": "unknown"
        },
        {
         "name": "operator_id",
         "rawType": "float64",
         "type": "float"
        },
        {
         "name": "is_missed_call",
         "rawType": "bool",
         "type": "boolean"
        },
        {
         "name": "calls_count",
         "rawType": "int64",
         "type": "integer"
        },
        {
         "name": "call_duration",
         "rawType": "int64",
         "type": "integer"
        },
        {
         "name": "total_call_duration",
         "rawType": "int64",
         "type": "integer"
        }
       ],
       "conversionMethod": "pd.DataFrame",
       "ref": "474209dc-1322-42b7-979a-962639c95808",
       "rows": [
        [
         "0",
         "166377",
         "2019-08-04 00:00:00",
         "in",
         "False",
         null,
         "True",
         "2",
         "0",
         "4"
        ],
        [
         "7",
         "166377",
         "2019-08-05 00:00:00",
         "in",
         "False",
         null,
         "True",
         "6",
         "0",
         "35"
        ],
        [
         "9",
         "166377",
         "2019-08-06 00:00:00",
         "in",
         "False",
         null,
         "True",
         "4",
         "0",
         "62"
        ],
        [
         "17",
         "166377",
         "2019-08-07 00:00:00",
         "in",
         "False",
         null,
         "True",
         "2",
         "0",
         "24"
        ],
        [
         "27",
         "166377",
         "2019-08-12 00:00:00",
         "in",
         "False",
         null,
         "True",
         "2",
         "0",
         "34"
        ],
        [
         "28",
         "166377",
         "2019-08-12 00:00:00",
         "in",
         "False",
         null,
         "True",
         "2",
         "0",
         "34"
        ],
        [
         "30",
         "166377",
         "2019-08-13 00:00:00",
         "in",
         "False",
         null,
         "True",
         "7",
         "0",
         "128"
        ],
        [
         "38",
         "166377",
         "2019-08-14 00:00:00",
         "in",
         "False",
         null,
         "True",
         "1",
         "0",
         "3"
        ],
        [
         "45",
         "166377",
         "2019-08-14 00:00:00",
         "in",
         "False",
         null,
         "True",
         "1",
         "0",
         "3"
        ],
        [
         "77",
         "166377",
         "2019-08-22 00:00:00",
         "in",
         "False",
         null,
         "True",
         "1",
         "0",
         "1"
        ],
        [
         "81",
         "166377",
         "2019-08-23 00:00:00",
         "in",
         "False",
         null,
         "True",
         "2",
         "0",
         "47"
        ],
        [
         "88",
         "166377",
         "2019-08-24 00:00:00",
         "in",
         "False",
         null,
         "True",
         "2",
         "0",
         "35"
        ],
        [
         "109",
         "166377",
         "2019-08-29 00:00:00",
         "in",
         "False",
         null,
         "True",
         "2",
         "0",
         "60"
        ],
        [
         "127",
         "166377",
         "2019-09-03 00:00:00",
         "in",
         "False",
         null,
         "True",
         "1",
         "0",
         "20"
        ],
        [
         "134",
         "166377",
         "2019-09-04 00:00:00",
         "in",
         "False",
         null,
         "True",
         "1",
         "0",
         "19"
        ],
        [
         "146",
         "166377",
         "2019-09-05 00:00:00",
         "in",
         "False",
         null,
         "True",
         "2",
         "0",
         "23"
        ],
        [
         "166",
         "166377",
         "2019-09-09 00:00:00",
         "in",
         "False",
         null,
         "True",
         "1",
         "0",
         "29"
        ],
        [
         "169",
         "166377",
         "2019-09-10 00:00:00",
         "in",
         "False",
         null,
         "True",
         "1",
         "0",
         "26"
        ],
        [
         "177",
         "166377",
         "2019-09-11 00:00:00",
         "in",
         "False",
         null,
         "True",
         "1",
         "0",
         "2"
        ],
        [
         "195",
         "166377",
         "2019-09-12 00:00:00",
         "in",
         "False",
         null,
         "True",
         "4",
         "0",
         "77"
        ],
        [
         "211",
         "166377",
         "2019-09-16 00:00:00",
         "in",
         "False",
         null,
         "True",
         "8",
         "0",
         "119"
        ],
        [
         "216",
         "166377",
         "2019-09-17 00:00:00",
         "in",
         "False",
         null,
         "True",
         "2",
         "0",
         "60"
        ],
        [
         "252",
         "166377",
         "2019-09-24 00:00:00",
         "in",
         "False",
         null,
         "True",
         "2",
         "0",
         "4"
        ],
        [
         "290",
         "166377",
         "2019-10-02 00:00:00",
         "in",
         "False",
         null,
         "True",
         "3",
         "0",
         "86"
        ],
        [
         "301",
         "166377",
         "2019-10-03 00:00:00",
         "in",
         "False",
         null,
         "True",
         "2",
         "0",
         "60"
        ],
        [
         "312",
         "166377",
         "2019-10-07 00:00:00",
         "in",
         "False",
         null,
         "True",
         "2",
         "0",
         "71"
        ],
        [
         "322",
         "166377",
         "2019-10-08 00:00:00",
         "in",
         "False",
         null,
         "True",
         "1",
         "0",
         "6"
        ],
        [
         "326",
         "166377",
         "2019-10-09 00:00:00",
         "in",
         "False",
         null,
         "True",
         "4",
         "0",
         "22"
        ],
        [
         "330",
         "166377",
         "2019-10-10 00:00:00",
         "in",
         "False",
         null,
         "True",
         "4",
         "0",
         "32"
        ],
        [
         "335",
         "166377",
         "2019-10-10 00:00:00",
         "in",
         "False",
         null,
         "True",
         "4",
         "0",
         "32"
        ],
        [
         "353",
         "166377",
         "2019-10-15 00:00:00",
         "in",
         "False",
         null,
         "True",
         "1",
         "0",
         "1"
        ],
        [
         "367",
         "166377",
         "2019-10-17 00:00:00",
         "in",
         "False",
         null,
         "True",
         "1",
         "0",
         "27"
        ],
        [
         "374",
         "166377",
         "2019-10-19 00:00:00",
         "in",
         "False",
         null,
         "True",
         "1",
         "0",
         "83"
        ],
        [
         "375",
         "166377",
         "2019-10-20 00:00:00",
         "in",
         "False",
         null,
         "True",
         "1",
         "0",
         "66"
        ],
        [
         "385",
         "166377",
         "2019-10-22 00:00:00",
         "in",
         "False",
         null,
         "True",
         "1",
         "0",
         "3"
        ],
        [
         "411",
         "166377",
         "2019-10-28 00:00:00",
         "in",
         "False",
         null,
         "True",
         "2",
         "0",
         "0"
        ],
        [
         "417",
         "166377",
         "2019-10-28 00:00:00",
         "in",
         "False",
         null,
         "True",
         "2",
         "0",
         "0"
        ],
        [
         "455",
         "166377",
         "2019-11-06 00:00:00",
         "out",
         "False",
         null,
         "True",
         "1",
         "0",
         "1"
        ],
        [
         "463",
         "166377",
         "2019-11-07 00:00:00",
         "in",
         "False",
         null,
         "True",
         "3",
         "0",
         "86"
        ],
        [
         "555",
         "166377",
         "2019-11-26 00:00:00",
         "in",
         "False",
         null,
         "True",
         "8",
         "0",
         "6"
        ],
        [
         "565",
         "166377",
         "2019-11-28 00:00:00",
         "in",
         "False",
         null,
         "True",
         "6",
         "0",
         "80"
        ],
        [
         "572",
         "166391",
         "2019-08-06 00:00:00",
         "in",
         "True",
         null,
         "True",
         "3",
         "0",
         "163"
        ],
        [
         "576",
         "166391",
         "2019-08-07 00:00:00",
         "in",
         "False",
         null,
         "True",
         "2",
         "0",
         "71"
        ],
        [
         "577",
         "166391",
         "2019-08-08 00:00:00",
         "in",
         "False",
         null,
         "True",
         "1",
         "0",
         "20"
        ],
        [
         "578",
         "166391",
         "2019-08-09 00:00:00",
         "in",
         "False",
         null,
         "True",
         "1",
         "0",
         "33"
        ],
        [
         "579",
         "166391",
         "2019-08-10 00:00:00",
         "in",
         "True",
         null,
         "True",
         "1",
         "0",
         "38"
        ],
        [
         "580",
         "166391",
         "2019-08-15 00:00:00",
         "in",
         "True",
         null,
         "True",
         "2",
         "0",
         "77"
        ],
        [
         "581",
         "166391",
         "2019-08-16 00:00:00",
         "in",
         "True",
         null,
         "True",
         "3",
         "0",
         "67"
        ],
        [
         "582",
         "166391",
         "2019-09-18 00:00:00",
         "in",
         "False",
         null,
         "True",
         "1",
         "0",
         "9"
        ],
        [
         "583",
         "166391",
         "2019-09-20 00:00:00",
         "in",
         "False",
         null,
         "True",
         "1",
         "0",
         "1"
        ]
       ],
       "shape": {
        "columns": 9,
        "rows": 8115
       }
      },
      "text/html": [
       "<div>\n",
       "<style scoped>\n",
       "    .dataframe tbody tr th:only-of-type {\n",
       "        vertical-align: middle;\n",
       "    }\n",
       "\n",
       "    .dataframe tbody tr th {\n",
       "        vertical-align: top;\n",
       "    }\n",
       "\n",
       "    .dataframe thead th {\n",
       "        text-align: right;\n",
       "    }\n",
       "</style>\n",
       "<table border=\"1\" class=\"dataframe\">\n",
       "  <thead>\n",
       "    <tr style=\"text-align: right;\">\n",
       "      <th></th>\n",
       "      <th>user_id</th>\n",
       "      <th>date</th>\n",
       "      <th>direction</th>\n",
       "      <th>internal</th>\n",
       "      <th>operator_id</th>\n",
       "      <th>is_missed_call</th>\n",
       "      <th>calls_count</th>\n",
       "      <th>call_duration</th>\n",
       "      <th>total_call_duration</th>\n",
       "    </tr>\n",
       "  </thead>\n",
       "  <tbody>\n",
       "    <tr>\n",
       "      <th>0</th>\n",
       "      <td>166377</td>\n",
       "      <td>2019-08-04</td>\n",
       "      <td>in</td>\n",
       "      <td>False</td>\n",
       "      <td>NaN</td>\n",
       "      <td>True</td>\n",
       "      <td>2</td>\n",
       "      <td>0</td>\n",
       "      <td>4</td>\n",
       "    </tr>\n",
       "    <tr>\n",
       "      <th>7</th>\n",
       "      <td>166377</td>\n",
       "      <td>2019-08-05</td>\n",
       "      <td>in</td>\n",
       "      <td>False</td>\n",
       "      <td>NaN</td>\n",
       "      <td>True</td>\n",
       "      <td>6</td>\n",
       "      <td>0</td>\n",
       "      <td>35</td>\n",
       "    </tr>\n",
       "    <tr>\n",
       "      <th>9</th>\n",
       "      <td>166377</td>\n",
       "      <td>2019-08-06</td>\n",
       "      <td>in</td>\n",
       "      <td>False</td>\n",
       "      <td>NaN</td>\n",
       "      <td>True</td>\n",
       "      <td>4</td>\n",
       "      <td>0</td>\n",
       "      <td>62</td>\n",
       "    </tr>\n",
       "    <tr>\n",
       "      <th>17</th>\n",
       "      <td>166377</td>\n",
       "      <td>2019-08-07</td>\n",
       "      <td>in</td>\n",
       "      <td>False</td>\n",
       "      <td>NaN</td>\n",
       "      <td>True</td>\n",
       "      <td>2</td>\n",
       "      <td>0</td>\n",
       "      <td>24</td>\n",
       "    </tr>\n",
       "    <tr>\n",
       "      <th>27</th>\n",
       "      <td>166377</td>\n",
       "      <td>2019-08-12</td>\n",
       "      <td>in</td>\n",
       "      <td>False</td>\n",
       "      <td>NaN</td>\n",
       "      <td>True</td>\n",
       "      <td>2</td>\n",
       "      <td>0</td>\n",
       "      <td>34</td>\n",
       "    </tr>\n",
       "    <tr>\n",
       "      <th>...</th>\n",
       "      <td>...</td>\n",
       "      <td>...</td>\n",
       "      <td>...</td>\n",
       "      <td>...</td>\n",
       "      <td>...</td>\n",
       "      <td>...</td>\n",
       "      <td>...</td>\n",
       "      <td>...</td>\n",
       "      <td>...</td>\n",
       "    </tr>\n",
       "    <tr>\n",
       "      <th>53759</th>\n",
       "      <td>168601</td>\n",
       "      <td>2019-11-27</td>\n",
       "      <td>in</td>\n",
       "      <td>False</td>\n",
       "      <td>NaN</td>\n",
       "      <td>True</td>\n",
       "      <td>2</td>\n",
       "      <td>0</td>\n",
       "      <td>39</td>\n",
       "    </tr>\n",
       "    <tr>\n",
       "      <th>53763</th>\n",
       "      <td>168601</td>\n",
       "      <td>2019-11-28</td>\n",
       "      <td>in</td>\n",
       "      <td>False</td>\n",
       "      <td>NaN</td>\n",
       "      <td>True</td>\n",
       "      <td>1</td>\n",
       "      <td>0</td>\n",
       "      <td>19</td>\n",
       "    </tr>\n",
       "    <tr>\n",
       "      <th>53772</th>\n",
       "      <td>168603</td>\n",
       "      <td>2019-11-28</td>\n",
       "      <td>in</td>\n",
       "      <td>False</td>\n",
       "      <td>NaN</td>\n",
       "      <td>True</td>\n",
       "      <td>1</td>\n",
       "      <td>0</td>\n",
       "      <td>30</td>\n",
       "    </tr>\n",
       "    <tr>\n",
       "      <th>53776</th>\n",
       "      <td>168606</td>\n",
       "      <td>2019-11-08</td>\n",
       "      <td>in</td>\n",
       "      <td>False</td>\n",
       "      <td>NaN</td>\n",
       "      <td>True</td>\n",
       "      <td>6</td>\n",
       "      <td>0</td>\n",
       "      <td>121</td>\n",
       "    </tr>\n",
       "    <tr>\n",
       "      <th>53784</th>\n",
       "      <td>168606</td>\n",
       "      <td>2019-11-19</td>\n",
       "      <td>in</td>\n",
       "      <td>False</td>\n",
       "      <td>NaN</td>\n",
       "      <td>True</td>\n",
       "      <td>2</td>\n",
       "      <td>0</td>\n",
       "      <td>64</td>\n",
       "    </tr>\n",
       "  </tbody>\n",
       "</table>\n",
       "<p>8115 rows × 9 columns</p>\n",
       "</div>"
      ],
      "text/plain": [
       "       user_id       date direction internal  operator_id  is_missed_call  \\\n",
       "0       166377 2019-08-04        in    False          NaN            True   \n",
       "7       166377 2019-08-05        in    False          NaN            True   \n",
       "9       166377 2019-08-06        in    False          NaN            True   \n",
       "17      166377 2019-08-07        in    False          NaN            True   \n",
       "27      166377 2019-08-12        in    False          NaN            True   \n",
       "...        ...        ...       ...      ...          ...             ...   \n",
       "53759   168601 2019-11-27        in    False          NaN            True   \n",
       "53763   168601 2019-11-28        in    False          NaN            True   \n",
       "53772   168603 2019-11-28        in    False          NaN            True   \n",
       "53776   168606 2019-11-08        in    False          NaN            True   \n",
       "53784   168606 2019-11-19        in    False          NaN            True   \n",
       "\n",
       "       calls_count  call_duration  total_call_duration  \n",
       "0                2              0                    4  \n",
       "7                6              0                   35  \n",
       "9                4              0                   62  \n",
       "17               2              0                   24  \n",
       "27               2              0                   34  \n",
       "...            ...            ...                  ...  \n",
       "53759            2              0                   39  \n",
       "53763            1              0                   19  \n",
       "53772            1              0                   30  \n",
       "53776            6              0                  121  \n",
       "53784            2              0                   64  \n",
       "\n",
       "[8115 rows x 9 columns]"
      ]
     },
     "execution_count": 66,
     "metadata": {},
     "output_type": "execute_result"
    }
   ],
   "source": [
    "df_calls = df_calls[df_calls['internal'].notna()].reset_index(drop=True)\n",
    "\n",
    "# Revisar operator id con valores ausentes\n",
    "\n",
    "df_calls[df_calls['operator_id'].isna()]\n"
   ]
  },
  {
   "cell_type": "markdown",
   "id": "c9a093b2",
   "metadata": {},
   "source": [
    "- Dado a que estamos evaluando el rendimiento de los operadores y estas filas no tienen a un operador vinculado, tendremos que quitar todas estas filas, no tiene caso conservarlas y pienso que podrian llegar a sesgar nuestros datos."
   ]
  },
  {
   "cell_type": "code",
   "execution_count": 67,
   "id": "f30f480e",
   "metadata": {},
   "outputs": [],
   "source": [
    "df_calls = df_calls[df_calls['operator_id'].notna()].reset_index(drop=True)"
   ]
  },
  {
   "cell_type": "code",
   "execution_count": 68,
   "id": "3eb0e489",
   "metadata": {},
   "outputs": [
    {
     "data": {
      "text/plain": [
       "count                            45670\n",
       "mean     2019-10-23 16:08:16.290781696\n",
       "min                2019-08-02 00:00:00\n",
       "25%                2019-10-06 00:00:00\n",
       "50%                2019-10-28 00:00:00\n",
       "75%                2019-11-14 00:00:00\n",
       "max                2019-11-28 00:00:00\n",
       "Name: date, dtype: object"
      ]
     },
     "execution_count": 68,
     "metadata": {},
     "output_type": "execute_result"
    }
   ],
   "source": [
    "# Cambiar columna internal a bool\n",
    "\n",
    "df_calls['internal'] = df_calls['internal'].astype(bool)\n",
    "\n",
    "# Cambiar columna operator_id a int\n",
    "\n",
    "df_calls['operator_id'] = df_calls['operator_id'].astype(int)\n",
    "\n",
    "# Extraer columnas de date segun la granularidad de los datos\n",
    "\n",
    "df_calls['date'].describe()"
   ]
  },
  {
   "cell_type": "markdown",
   "id": "d6d3a8e0",
   "metadata": {},
   "source": [
    "- Vemos que los datos van desde el mes de agosto hasta el mes de noviembre, entonces separaremos de la columna date el mes y el día nada más"
   ]
  },
  {
   "cell_type": "code",
   "execution_count": 69,
   "id": "44789f52",
   "metadata": {},
   "outputs": [],
   "source": [
    "df_calls['month'] = df_calls['date'].dt.month\n",
    "df_calls['day'] = df_calls['date'].dt.day"
   ]
  },
  {
   "cell_type": "markdown",
   "id": "5cb2a948",
   "metadata": {},
   "source": [
    "- Sacaremos el tiempo de espera promedio para las llamadas que sí enlazan. Las llamadas que no enlazan, harán que haya valores negativos en esta columna que introduciremos"
   ]
  },
  {
   "cell_type": "code",
   "execution_count": 70,
   "id": "b34aad01",
   "metadata": {},
   "outputs": [
    {
     "data": {
      "application/vnd.microsoft.datawrangler.viewer.v0+json": {
       "columns": [
        {
         "name": "index",
         "rawType": "int64",
         "type": "integer"
        },
        {
         "name": "user_id",
         "rawType": "int64",
         "type": "integer"
        },
        {
         "name": "date",
         "rawType": "datetime64[ns]",
         "type": "datetime"
        },
        {
         "name": "direction",
         "rawType": "object",
         "type": "string"
        },
        {
         "name": "internal",
         "rawType": "bool",
         "type": "boolean"
        },
        {
         "name": "operator_id",
         "rawType": "int64",
         "type": "integer"
        },
        {
         "name": "is_missed_call",
         "rawType": "bool",
         "type": "boolean"
        },
        {
         "name": "calls_count",
         "rawType": "int64",
         "type": "integer"
        },
        {
         "name": "call_duration",
         "rawType": "int64",
         "type": "integer"
        },
        {
         "name": "total_call_duration",
         "rawType": "int64",
         "type": "integer"
        },
        {
         "name": "month",
         "rawType": "int32",
         "type": "integer"
        },
        {
         "name": "day",
         "rawType": "int32",
         "type": "integer"
        },
        {
         "name": "avg_waiting_time",
         "rawType": "float64",
         "type": "float"
        }
       ],
       "conversionMethod": "pd.DataFrame",
       "ref": "dd971eb0-67cf-4677-8a8a-256cfb67066f",
       "rows": [
        [
         "6304",
         "166604",
         "2019-10-13 00:00:00",
         "in",
         "False",
         "893402",
         "False",
         "1",
         "28",
         "40",
         "10",
         "13",
         "12.0"
        ],
        [
         "13297",
         "166901",
         "2019-11-28 00:00:00",
         "out",
         "False",
         "896016",
         "False",
         "16",
         "1727",
         "1844",
         "11",
         "28",
         "7.31"
        ],
        [
         "14501",
         "166916",
         "2019-11-27 00:00:00",
         "out",
         "False",
         "906404",
         "False",
         "15",
         "1787",
         "1959",
         "11",
         "27",
         "11.47"
        ],
        [
         "30195",
         "167551",
         "2019-10-07 00:00:00",
         "out",
         "True",
         "919218",
         "False",
         "1",
         "980",
         "993",
         "10",
         "7",
         "13.0"
        ],
        [
         "1757",
         "166406",
         "2019-09-27 00:00:00",
         "out",
         "False",
         "879898",
         "True",
         "47",
         "0",
         "1026",
         "9",
         "27",
         null
        ],
        [
         "44080",
         "168361",
         "2019-10-26 00:00:00",
         "out",
         "False",
         "945286",
         "True",
         "141",
         "0",
         "2342",
         "10",
         "26",
         null
        ]
       ],
       "shape": {
        "columns": 12,
        "rows": 6
       }
      },
      "text/html": [
       "<div>\n",
       "<style scoped>\n",
       "    .dataframe tbody tr th:only-of-type {\n",
       "        vertical-align: middle;\n",
       "    }\n",
       "\n",
       "    .dataframe tbody tr th {\n",
       "        vertical-align: top;\n",
       "    }\n",
       "\n",
       "    .dataframe thead th {\n",
       "        text-align: right;\n",
       "    }\n",
       "</style>\n",
       "<table border=\"1\" class=\"dataframe\">\n",
       "  <thead>\n",
       "    <tr style=\"text-align: right;\">\n",
       "      <th></th>\n",
       "      <th>user_id</th>\n",
       "      <th>date</th>\n",
       "      <th>direction</th>\n",
       "      <th>internal</th>\n",
       "      <th>operator_id</th>\n",
       "      <th>is_missed_call</th>\n",
       "      <th>calls_count</th>\n",
       "      <th>call_duration</th>\n",
       "      <th>total_call_duration</th>\n",
       "      <th>month</th>\n",
       "      <th>day</th>\n",
       "      <th>avg_waiting_time</th>\n",
       "    </tr>\n",
       "  </thead>\n",
       "  <tbody>\n",
       "    <tr>\n",
       "      <th>6304</th>\n",
       "      <td>166604</td>\n",
       "      <td>2019-10-13</td>\n",
       "      <td>in</td>\n",
       "      <td>False</td>\n",
       "      <td>893402</td>\n",
       "      <td>False</td>\n",
       "      <td>1</td>\n",
       "      <td>28</td>\n",
       "      <td>40</td>\n",
       "      <td>10</td>\n",
       "      <td>13</td>\n",
       "      <td>12.00</td>\n",
       "    </tr>\n",
       "    <tr>\n",
       "      <th>13297</th>\n",
       "      <td>166901</td>\n",
       "      <td>2019-11-28</td>\n",
       "      <td>out</td>\n",
       "      <td>False</td>\n",
       "      <td>896016</td>\n",
       "      <td>False</td>\n",
       "      <td>16</td>\n",
       "      <td>1727</td>\n",
       "      <td>1844</td>\n",
       "      <td>11</td>\n",
       "      <td>28</td>\n",
       "      <td>7.31</td>\n",
       "    </tr>\n",
       "    <tr>\n",
       "      <th>14501</th>\n",
       "      <td>166916</td>\n",
       "      <td>2019-11-27</td>\n",
       "      <td>out</td>\n",
       "      <td>False</td>\n",
       "      <td>906404</td>\n",
       "      <td>False</td>\n",
       "      <td>15</td>\n",
       "      <td>1787</td>\n",
       "      <td>1959</td>\n",
       "      <td>11</td>\n",
       "      <td>27</td>\n",
       "      <td>11.47</td>\n",
       "    </tr>\n",
       "    <tr>\n",
       "      <th>30195</th>\n",
       "      <td>167551</td>\n",
       "      <td>2019-10-07</td>\n",
       "      <td>out</td>\n",
       "      <td>True</td>\n",
       "      <td>919218</td>\n",
       "      <td>False</td>\n",
       "      <td>1</td>\n",
       "      <td>980</td>\n",
       "      <td>993</td>\n",
       "      <td>10</td>\n",
       "      <td>7</td>\n",
       "      <td>13.00</td>\n",
       "    </tr>\n",
       "    <tr>\n",
       "      <th>1757</th>\n",
       "      <td>166406</td>\n",
       "      <td>2019-09-27</td>\n",
       "      <td>out</td>\n",
       "      <td>False</td>\n",
       "      <td>879898</td>\n",
       "      <td>True</td>\n",
       "      <td>47</td>\n",
       "      <td>0</td>\n",
       "      <td>1026</td>\n",
       "      <td>9</td>\n",
       "      <td>27</td>\n",
       "      <td>NaN</td>\n",
       "    </tr>\n",
       "    <tr>\n",
       "      <th>44080</th>\n",
       "      <td>168361</td>\n",
       "      <td>2019-10-26</td>\n",
       "      <td>out</td>\n",
       "      <td>False</td>\n",
       "      <td>945286</td>\n",
       "      <td>True</td>\n",
       "      <td>141</td>\n",
       "      <td>0</td>\n",
       "      <td>2342</td>\n",
       "      <td>10</td>\n",
       "      <td>26</td>\n",
       "      <td>NaN</td>\n",
       "    </tr>\n",
       "  </tbody>\n",
       "</table>\n",
       "</div>"
      ],
      "text/plain": [
       "       user_id       date direction  internal  operator_id  is_missed_call  \\\n",
       "6304    166604 2019-10-13        in     False       893402           False   \n",
       "13297   166901 2019-11-28       out     False       896016           False   \n",
       "14501   166916 2019-11-27       out     False       906404           False   \n",
       "30195   167551 2019-10-07       out      True       919218           False   \n",
       "1757    166406 2019-09-27       out     False       879898            True   \n",
       "44080   168361 2019-10-26       out     False       945286            True   \n",
       "\n",
       "       calls_count  call_duration  total_call_duration  month  day  \\\n",
       "6304             1             28                   40     10   13   \n",
       "13297           16           1727                 1844     11   28   \n",
       "14501           15           1787                 1959     11   27   \n",
       "30195            1            980                  993     10    7   \n",
       "1757            47              0                 1026      9   27   \n",
       "44080          141              0                 2342     10   26   \n",
       "\n",
       "       avg_waiting_time  \n",
       "6304              12.00  \n",
       "13297              7.31  \n",
       "14501             11.47  \n",
       "30195             13.00  \n",
       "1757                NaN  \n",
       "44080               NaN  "
      ]
     },
     "execution_count": 70,
     "metadata": {},
     "output_type": "execute_result"
    }
   ],
   "source": [
    "# Función para la columna de tiempo de espera promedio\n",
    "\n",
    "def waitingTime(row):\n",
    "    if not row['is_missed_call']:\n",
    "        waiting = (row['total_call_duration'] - row['call_duration']) / row['calls_count']\n",
    "\n",
    "    else:\n",
    "        waiting = np.nan\n",
    "\n",
    "    return waiting\n",
    "\n",
    "df_calls['avg_waiting_time'] = df_calls.apply(waitingTime, axis=1).round(2)\n",
    "\n",
    "df_calls.sample(6)"
   ]
  },
  {
   "cell_type": "markdown",
   "id": "9a4a3ae9",
   "metadata": {},
   "source": [
    "### Dataframe clients"
   ]
  },
  {
   "cell_type": "code",
   "execution_count": 71,
   "id": "91070167",
   "metadata": {},
   "outputs": [
    {
     "data": {
      "application/vnd.microsoft.datawrangler.viewer.v0+json": {
       "columns": [
        {
         "name": "index",
         "rawType": "int64",
         "type": "integer"
        },
        {
         "name": "user_id",
         "rawType": "int64",
         "type": "integer"
        },
        {
         "name": "tariff_plan",
         "rawType": "object",
         "type": "string"
        },
        {
         "name": "date_start",
         "rawType": "datetime64[ns]",
         "type": "datetime"
        }
       ],
       "conversionMethod": "pd.DataFrame",
       "ref": "3f605a2b-c78e-4f93-b809-9966fc75c1d9",
       "rows": [
        [
         "0",
         "166713",
         "A",
         "2019-08-15 00:00:00"
        ],
        [
         "1",
         "166901",
         "A",
         "2019-08-23 00:00:00"
        ],
        [
         "2",
         "168527",
         "A",
         "2019-10-29 00:00:00"
        ],
        [
         "3",
         "167097",
         "A",
         "2019-09-01 00:00:00"
        ],
        [
         "4",
         "168193",
         "A",
         "2019-10-16 00:00:00"
        ],
        [
         "5",
         "167764",
         "A",
         "2019-09-30 00:00:00"
        ],
        [
         "6",
         "167050",
         "A",
         "2019-08-29 00:00:00"
        ],
        [
         "7",
         "168252",
         "A",
         "2019-10-17 00:00:00"
        ],
        [
         "8",
         "168495",
         "A",
         "2019-10-28 00:00:00"
        ],
        [
         "9",
         "167879",
         "A",
         "2019-10-03 00:00:00"
        ],
        [
         "10",
         "168573",
         "A",
         "2019-10-31 00:00:00"
        ],
        [
         "11",
         "166610",
         "A",
         "2019-08-12 00:00:00"
        ],
        [
         "12",
         "167536",
         "A",
         "2019-09-19 00:00:00"
        ],
        [
         "13",
         "168354",
         "A",
         "2019-10-23 00:00:00"
        ],
        [
         "14",
         "168284",
         "A",
         "2019-10-20 00:00:00"
        ],
        [
         "15",
         "168422",
         "A",
         "2019-10-24 00:00:00"
        ],
        [
         "16",
         "168253",
         "A",
         "2019-10-18 00:00:00"
        ],
        [
         "17",
         "168062",
         "A",
         "2019-10-11 00:00:00"
        ],
        [
         "18",
         "168048",
         "A",
         "2019-10-10 00:00:00"
        ],
        [
         "19",
         "168205",
         "A",
         "2019-10-16 00:00:00"
        ],
        [
         "20",
         "167838",
         "A",
         "2019-10-02 00:00:00"
        ],
        [
         "21",
         "168361",
         "A",
         "2019-10-23 00:00:00"
        ],
        [
         "22",
         "168295",
         "A",
         "2019-10-21 00:00:00"
        ],
        [
         "23",
         "167881",
         "A",
         "2019-10-03 00:00:00"
        ],
        [
         "24",
         "168121",
         "A",
         "2019-10-14 00:00:00"
        ],
        [
         "25",
         "168049",
         "A",
         "2019-10-10 00:00:00"
        ],
        [
         "26",
         "167949",
         "A",
         "2019-10-07 00:00:00"
        ],
        [
         "27",
         "168187",
         "A",
         "2019-10-16 00:00:00"
        ],
        [
         "28",
         "167828",
         "A",
         "2019-10-02 00:00:00"
        ],
        [
         "29",
         "167810",
         "A",
         "2019-10-01 00:00:00"
        ],
        [
         "30",
         "168112",
         "A",
         "2019-10-14 00:00:00"
        ],
        [
         "31",
         "167953",
         "A",
         "2019-10-07 00:00:00"
        ],
        [
         "32",
         "167799",
         "A",
         "2019-10-01 00:00:00"
        ],
        [
         "33",
         "166897",
         "A",
         "2019-08-23 00:00:00"
        ],
        [
         "34",
         "167628",
         "A",
         "2019-09-24 00:00:00"
        ],
        [
         "35",
         "166916",
         "A",
         "2019-08-23 00:00:00"
        ],
        [
         "36",
         "167497",
         "A",
         "2019-09-18 00:00:00"
        ],
        [
         "37",
         "167634",
         "A",
         "2019-09-24 00:00:00"
        ],
        [
         "38",
         "166879",
         "A",
         "2019-08-22 00:00:00"
        ],
        [
         "39",
         "166465",
         "A",
         "2019-08-05 00:00:00"
        ],
        [
         "40",
         "166523",
         "A",
         "2019-08-07 00:00:00"
        ],
        [
         "41",
         "166806",
         "A",
         "2019-08-20 00:00:00"
        ],
        [
         "42",
         "167185",
         "A",
         "2019-09-05 00:00:00"
        ],
        [
         "43",
         "168459",
         "A",
         "2019-10-26 00:00:00"
        ],
        [
         "44",
         "167267",
         "A",
         "2019-09-10 00:00:00"
        ],
        [
         "45",
         "166541",
         "A",
         "2019-08-07 00:00:00"
        ],
        [
         "46",
         "167090",
         "A",
         "2019-08-30 00:00:00"
        ],
        [
         "47",
         "166934",
         "A",
         "2019-08-26 00:00:00"
        ],
        [
         "48",
         "166896",
         "A",
         "2019-08-23 00:00:00"
        ],
        [
         "49",
         "166725",
         "A",
         "2019-08-16 00:00:00"
        ]
       ],
       "shape": {
        "columns": 3,
        "rows": 732
       }
      },
      "text/html": [
       "<div>\n",
       "<style scoped>\n",
       "    .dataframe tbody tr th:only-of-type {\n",
       "        vertical-align: middle;\n",
       "    }\n",
       "\n",
       "    .dataframe tbody tr th {\n",
       "        vertical-align: top;\n",
       "    }\n",
       "\n",
       "    .dataframe thead th {\n",
       "        text-align: right;\n",
       "    }\n",
       "</style>\n",
       "<table border=\"1\" class=\"dataframe\">\n",
       "  <thead>\n",
       "    <tr style=\"text-align: right;\">\n",
       "      <th></th>\n",
       "      <th>user_id</th>\n",
       "      <th>tariff_plan</th>\n",
       "      <th>date_start</th>\n",
       "    </tr>\n",
       "  </thead>\n",
       "  <tbody>\n",
       "    <tr>\n",
       "      <th>0</th>\n",
       "      <td>166713</td>\n",
       "      <td>A</td>\n",
       "      <td>2019-08-15</td>\n",
       "    </tr>\n",
       "    <tr>\n",
       "      <th>1</th>\n",
       "      <td>166901</td>\n",
       "      <td>A</td>\n",
       "      <td>2019-08-23</td>\n",
       "    </tr>\n",
       "    <tr>\n",
       "      <th>2</th>\n",
       "      <td>168527</td>\n",
       "      <td>A</td>\n",
       "      <td>2019-10-29</td>\n",
       "    </tr>\n",
       "    <tr>\n",
       "      <th>3</th>\n",
       "      <td>167097</td>\n",
       "      <td>A</td>\n",
       "      <td>2019-09-01</td>\n",
       "    </tr>\n",
       "    <tr>\n",
       "      <th>4</th>\n",
       "      <td>168193</td>\n",
       "      <td>A</td>\n",
       "      <td>2019-10-16</td>\n",
       "    </tr>\n",
       "    <tr>\n",
       "      <th>...</th>\n",
       "      <td>...</td>\n",
       "      <td>...</td>\n",
       "      <td>...</td>\n",
       "    </tr>\n",
       "    <tr>\n",
       "      <th>727</th>\n",
       "      <td>166554</td>\n",
       "      <td>B</td>\n",
       "      <td>2019-08-08</td>\n",
       "    </tr>\n",
       "    <tr>\n",
       "      <th>728</th>\n",
       "      <td>166911</td>\n",
       "      <td>B</td>\n",
       "      <td>2019-08-23</td>\n",
       "    </tr>\n",
       "    <tr>\n",
       "      <th>729</th>\n",
       "      <td>167012</td>\n",
       "      <td>B</td>\n",
       "      <td>2019-08-28</td>\n",
       "    </tr>\n",
       "    <tr>\n",
       "      <th>730</th>\n",
       "      <td>166867</td>\n",
       "      <td>B</td>\n",
       "      <td>2019-08-22</td>\n",
       "    </tr>\n",
       "    <tr>\n",
       "      <th>731</th>\n",
       "      <td>166565</td>\n",
       "      <td>B</td>\n",
       "      <td>2019-08-08</td>\n",
       "    </tr>\n",
       "  </tbody>\n",
       "</table>\n",
       "<p>732 rows × 3 columns</p>\n",
       "</div>"
      ],
      "text/plain": [
       "     user_id tariff_plan date_start\n",
       "0     166713           A 2019-08-15\n",
       "1     166901           A 2019-08-23\n",
       "2     168527           A 2019-10-29\n",
       "3     167097           A 2019-09-01\n",
       "4     168193           A 2019-10-16\n",
       "..       ...         ...        ...\n",
       "727   166554           B 2019-08-08\n",
       "728   166911           B 2019-08-23\n",
       "729   167012           B 2019-08-28\n",
       "730   166867           B 2019-08-22\n",
       "731   166565           B 2019-08-08\n",
       "\n",
       "[732 rows x 3 columns]"
      ]
     },
     "execution_count": 71,
     "metadata": {},
     "output_type": "execute_result"
    }
   ],
   "source": [
    "# Cambiar columna date a datetime\n",
    "\n",
    "df_clients['date_start'] = pd.to_datetime(df_clients['date_start'])\n",
    "\n",
    "df_clients"
   ]
  },
  {
   "cell_type": "markdown",
   "id": "712f9abf",
   "metadata": {},
   "source": [
    "## Análisis"
   ]
  },
  {
   "cell_type": "markdown",
   "id": "0aea8d4a",
   "metadata": {},
   "source": [
    "### Análisis inicial"
   ]
  },
  {
   "cell_type": "code",
   "execution_count": 72,
   "id": "b02f9e2f",
   "metadata": {},
   "outputs": [
    {
     "data": {
      "image/png": "[encoded data removed]",
      "text/plain": [
       "<Figure size 1700x500 with 1 Axes>"
      ]
     },
     "metadata": {},
     "output_type": "display_data"
    }
   ],
   "source": [
    "# Promedio de flujo de llamadas en general por fecha\n",
    "\n",
    "total_calls_intime = df_calls.groupby(['month','day']).agg(call_count = ('calls_count','mean'))\n",
    "\n",
    "total_calls_intime.plot(kind='line',figsize=(17,5), marker='.', legend=False)\n",
    "\n",
    "plt.grid(linestyle='--')\n",
    "plt.xlabel('Month and day')\n",
    "plt.ylabel('Call count average')\n",
    "plt.title('Average call count throughout the time')\n",
    "plt.show()"
   ]
  },
  {
   "cell_type": "code",
   "execution_count": 73,
   "id": "506d8f30",
   "metadata": {},
   "outputs": [
    {
     "data": {
      "image/png": "[encoded data removed]",
      "text/plain": [
       "<Figure size 1700x500 with 1 Axes>"
      ]
     },
     "metadata": {},
     "output_type": "display_data"
    }
   ],
   "source": [
    "# Flujo de llamadas internas a lo largo del tiempo\n",
    "\n",
    "internal_calls_intime = df_calls.query('internal == True')\n",
    "\n",
    "internal_calls_intime = internal_calls_intime.groupby(['month','day']).agg(call_count = ('calls_count','mean'))\n",
    "\n",
    "internal_calls_intime.plot(kind='line',figsize=(17,5), marker='.', legend=False, color='tomato')\n",
    "\n",
    "plt.grid(linestyle='--')\n",
    "plt.xlabel('Month and day')\n",
    "plt.ylabel('Internal call count average')\n",
    "plt.title('Average internal call count throughout the time')\n",
    "plt.show()\n"
   ]
  },
  {
   "cell_type": "code",
   "execution_count": 74,
   "id": "03115704",
   "metadata": {},
   "outputs": [
    {
     "data": {
      "image/png": "[encoded data removed]",
      "text/plain": [
       "<Figure size 1700x500 with 1 Axes>"
      ]
     },
     "metadata": {},
     "output_type": "display_data"
    }
   ],
   "source": [
    "# Flujo de llamadas externas a lo largo del tiempo\n",
    "\n",
    "external_calls_intime = df_calls.query('internal == False')\n",
    "\n",
    "external_calls_intime = external_calls_intime.groupby(['month','day']).agg(call_count = ('calls_count','mean'))\n",
    "\n",
    "external_calls_intime.plot(kind='line',figsize=(17,5), marker='.', legend=False, color='green')\n",
    "\n",
    "plt.grid(linestyle='--')\n",
    "plt.xlabel('Month and day')\n",
    "plt.ylabel('Internal call count average')\n",
    "plt.title('Average external call count throughout the time')\n",
    "plt.show()\n"
   ]
  },
  {
   "cell_type": "markdown",
   "id": "cec5640d",
   "metadata": {},
   "source": [
    "    - Con estos gráficos observamos que en general se manejan muchas más llamadas externas que llamadas internas, es de esperar de un centro de telecomunicaciones que esto suceda.\n",
    "    - Tenemos picos de actividad a mitades de agosto y a inicios de octubre, no tenemos más referencia de por qué podría ser pero conservaremos ese dato en nuestra memoria."
   ]
  },
  {
   "cell_type": "code",
   "execution_count": 75,
   "id": "fb492397",
   "metadata": {},
   "outputs": [
    {
     "data": {
      "image/png": "[encoded data removed]",
      "text/plain": [
       "<Figure size 640x480 with 1 Axes>"
      ]
     },
     "metadata": {},
     "output_type": "display_data"
    }
   ],
   "source": [
    "# Conteo de clientes por tarifa\n",
    "\n",
    "clients_per_tariff = df_clients.groupby('tariff_plan').agg(no_clients = ('user_id','nunique')).reset_index()\n",
    "\n",
    "clients_per_tariff.columns = ['tariff_plan', 'no_clients']\n",
    "\n",
    "clients_per_tariff.plot(kind='bar', x='tariff_plan', y='no_clients', legend=False, rot=0, color='orange')\n",
    "\n",
    "for idx, value in enumerate(clients_per_tariff['no_clients']):\n",
    "    plt.text(idx, value + 0.5, str(value), ha='center', va='bottom')\n",
    "\n",
    "plt.title('Number of clients per tariff')\n",
    "plt.xlabel('Tariff plan')\n",
    "plt.ylabel('No. of clients')\n",
    "plt.tight_layout()\n",
    "plt.show()"
   ]
  },
  {
   "cell_type": "markdown",
   "id": "3db1763a",
   "metadata": {},
   "source": [
    "    - Vemos que el plan más popular es el plan C, veamos si podemos descrifrar qué tiene de especial en cuanto al rendimiento en llamadas."
   ]
  },
  {
   "cell_type": "markdown",
   "id": "f0c07e30",
   "metadata": {},
   "source": [
    "- Dividiremos el análisis según el plan tarifario, ya que podrían haber diferentes rendimientos según el objetivo de cada empresa/su plan contratado."
   ]
  },
  {
   "cell_type": "code",
   "execution_count": 76,
   "id": "372b231c",
   "metadata": {},
   "outputs": [
    {
     "data": {
      "text/plain": [
       "np.int64(0)"
      ]
     },
     "execution_count": 76,
     "metadata": {},
     "output_type": "execute_result"
    }
   ],
   "source": [
    "# Verificar si no tenemos clientes con user id repetido antes del merge\n",
    "\n",
    "df_clients['user_id'].duplicated().sum() # Devuelve 0\n"
   ]
  },
  {
   "cell_type": "code",
   "execution_count": 77,
   "id": "5b323ef3",
   "metadata": {},
   "outputs": [],
   "source": [
    "# Merge de ambos dataframes para comprobar si según el cliente/tarifa, varía la actividad de sus operadores (si se esperan más llamadas de entrada o de salida, por ejemplo)\n",
    "\n",
    "df_merged = df_calls.merge(df_clients, on = 'user_id', how='left')\n",
    "\n",
    "df_merged_A = df_merged.query('tariff_plan == \"A\"')\n",
    "df_merged_B = df_merged.query('tariff_plan == \"B\"')\n",
    "df_merged_C = df_merged.query('tariff_plan == \"C\"')"
   ]
  },
  {
   "cell_type": "code",
   "execution_count": 78,
   "id": "ac86dc43",
   "metadata": {},
   "outputs": [
    {
     "data": {
      "image/png": "[encoded data removed]",
      "text/plain": [
       "<Figure size 640x480 with 1 Axes>"
      ]
     },
     "metadata": {},
     "output_type": "display_data"
    }
   ],
   "source": [
    "# Número de operadores por cliente\n",
    "\n",
    "ops_per_client = df_merged.groupby('tariff_plan').agg(no_ops = ('operator_id', 'nunique'))\n",
    "\n",
    "ops_per_client.plot(kind='bar',legend=False, rot=0, color='tomato')\n",
    "\n",
    "for idx, value in enumerate(ops_per_client['no_ops']):\n",
    "    plt.text(idx, value + 0.5, str(value), ha='center', va='bottom')\n",
    "\n",
    "plt.title('Operator count per tariff')\n",
    "plt.xlabel('Tariff plan')\n",
    "plt.ylabel('No. of operators')\n",
    "plt.tight_layout()\n",
    "plt.show()"
   ]
  },
  {
   "cell_type": "markdown",
   "id": "6421cf70",
   "metadata": {},
   "source": [
    "    - Curiosamente, aunque el plan C es el más popular, el plan B tiene más operadores activos."
   ]
  },
  {
   "cell_type": "code",
   "execution_count": 79,
   "id": "d539869a",
   "metadata": {},
   "outputs": [
    {
     "data": {
      "text/plain": [
       "tariff_plan\n",
       "C    16329\n",
       "B    15910\n",
       "A    13431\n",
       "Name: count, dtype: int64"
      ]
     },
     "execution_count": 79,
     "metadata": {},
     "output_type": "execute_result"
    }
   ],
   "source": [
    "df_merged['tariff_plan'].value_counts()"
   ]
  },
  {
   "cell_type": "markdown",
   "id": "7d3d105d",
   "metadata": {},
   "source": [
    "    - Contamos con cantidades similares de datos de llamadas para cada plan tarifario."
   ]
  },
  {
   "cell_type": "code",
   "execution_count": 80,
   "id": "c8e8bb2d",
   "metadata": {},
   "outputs": [
    {
     "name": "stdout",
     "output_type": "stream",
     "text": [
      "------ Tarifa A ------\n",
      "  direction  count\n",
      "0       out   9645\n",
      "1        in   3786\n",
      "Proporción de llamadas entrantes vs salientes: 0.39%\n",
      "------ Tarifa B ------\n",
      "  direction  count\n",
      "0       out  11323\n",
      "1        in   4587\n",
      "Proporción de llamadas entrantes vs salientes: 0.41%\n",
      "------ Tarifa C ------\n",
      "  direction  count\n",
      "0       out  10749\n",
      "1        in   5580\n",
      "Proporción de llamadas entrantes vs salientes: 0.52%\n"
     ]
    },
    {
     "data": {
      "image/png": "[encoded data removed]",
      "text/plain": [
       "<Figure size 640x480 with 1 Axes>"
      ]
     },
     "metadata": {},
     "output_type": "display_data"
    }
   ],
   "source": [
    "titulos = ['Tarifa A', 'Tarifa B','Tarifa C']\n",
    "df_group = [df_merged_A, df_merged_B, df_merged_C]\n",
    "\n",
    "llamadas_in = []\n",
    "llamadas_out = []\n",
    "\n",
    "for name, df in zip(titulos, df_group):\n",
    "    print(f'------ {name} ------')\n",
    "    \n",
    "    resumen = df['direction'].value_counts().reset_index()\n",
    "    resumen.columns = ['direction', 'count']\n",
    "    print(resumen)\n",
    "    \n",
    "    prop = resumen.loc[resumen['direction'] == 'in', 'count'].values[0] / resumen.loc[resumen['direction'] == 'out', 'count'].values[0]\n",
    "    print(f'Proporción de llamadas entrantes vs salientes: {prop:.2f}%')\n",
    "    \n",
    "    llamadas_in.append(resumen.loc[resumen['direction'] == 'in', 'count'].values[0])\n",
    "    llamadas_out.append(resumen.loc[resumen['direction'] == 'out', 'count'].values[0])\n",
    "\n",
    "x = np.arange(len(titulos))\n",
    "width = 0.35\n",
    "\n",
    "fig, ax = plt.subplots()\n",
    "bars1 = ax.bar(x - width/2, llamadas_in, width, label='In calls')\n",
    "bars2 = ax.bar(x + width/2, llamadas_out, width, label='Out calls')\n",
    "\n",
    "ax.bar_label(bars1, padding=3)\n",
    "ax.bar_label(bars2, padding=3)\n",
    "\n",
    "ax.set_ylabel('Call count')\n",
    "ax.set_title('Call direction (count) per tariff')\n",
    "ax.set_xticks(x)\n",
    "ax.set_xticklabels(['A','B','C'])\n",
    "ax.legend()\n",
    "\n",
    "plt.xlabel('Tariff plan')\n",
    "plt.grid(linestyle='--')\n",
    "plt.tight_layout()\n",
    "plt.ylim([0,12500])\n",
    "plt.show()"
   ]
  },
  {
   "cell_type": "markdown",
   "id": "da2eafa5",
   "metadata": {},
   "source": [
    "    - Podríamos empezar a considerar que el plan C está pensado más para quizá un servicio de atención a clientes, quienes deben recibir llamadas constantemente."
   ]
  },
  {
   "cell_type": "code",
   "execution_count": 81,
   "id": "5d6c17f7",
   "metadata": {},
   "outputs": [
    {
     "data": {
      "text/plain": [
       "32"
      ]
     },
     "execution_count": 81,
     "metadata": {},
     "output_type": "execute_result"
    }
   ],
   "source": [
    "df_merged_A['user_id'].nunique()"
   ]
  },
  {
   "cell_type": "code",
   "execution_count": 82,
   "id": "378cdd79",
   "metadata": {},
   "outputs": [
    {
     "data": {
      "text/plain": [
       "101"
      ]
     },
     "execution_count": 82,
     "metadata": {},
     "output_type": "execute_result"
    }
   ],
   "source": [
    "df_merged_B['user_id'].nunique()"
   ]
  },
  {
   "cell_type": "code",
   "execution_count": 83,
   "id": "5849e247",
   "metadata": {},
   "outputs": [
    {
     "data": {
      "text/plain": [
       "157"
      ]
     },
     "execution_count": 83,
     "metadata": {},
     "output_type": "execute_result"
    }
   ],
   "source": [
    "df_merged_C['user_id'].nunique()"
   ]
  },
  {
   "cell_type": "markdown",
   "id": "38e8bc50",
   "metadata": {},
   "source": [
    "    - Con esto último, vemos diferencias entre el número de clientes en el dataframe de clientes vs el dataframe de llamadas.\n",
    "    - Podemos observar que en nuestro dataframe de llamadas solamente vemos el número de clientes por tarifa expuesto arriba."
   ]
  },
  {
   "cell_type": "code",
   "execution_count": 84,
   "id": "1df75a28",
   "metadata": {},
   "outputs": [
    {
     "name": "stdout",
     "output_type": "stream",
     "text": [
      "-----------------\n",
      "Total de llamadas para Tarifa A: 420541\n",
      "Llamadas perdidas para Tarifa A: 4748\n",
      "Proporción de llamadas perdidas para Tarifa A: 0.01\n",
      "\n",
      "\n",
      "-----------------\n",
      "Total de llamadas para Tarifa B: 152356\n",
      "Llamadas perdidas para Tarifa B: 5444\n",
      "Proporción de llamadas perdidas para Tarifa B: 0.04\n",
      "\n",
      "\n",
      "-----------------\n",
      "Total de llamadas para Tarifa C: 200077\n",
      "Llamadas perdidas para Tarifa C: 5325\n",
      "Proporción de llamadas perdidas para Tarifa C: 0.03\n",
      "\n",
      "\n"
     ]
    }
   ],
   "source": [
    "# Llamadas perdidas por cliente\n",
    "\n",
    "for dataframe, nombre in zip(df_group, titulos):\n",
    "\n",
    "    print(\"-----------------\")\n",
    "    total_calls = dataframe['calls_count'].sum()\n",
    "    missed = dataframe['is_missed_call'].sum()\n",
    "    prop_missed = missed / total_calls\n",
    "    print(f\"Total de llamadas para {nombre}:\", total_calls)\n",
    "    print(f\"Llamadas perdidas para {nombre}:\", missed)\n",
    "    print(f\"Proporción de llamadas perdidas para {nombre}: {prop_missed:.2f}\", )\n",
    "    print(\"\\n\")"
   ]
  },
  {
   "cell_type": "markdown",
   "id": "bebf46d9",
   "metadata": {},
   "source": [
    "    - En la tarifa B tenemos mayor proporción de llamadas perdidas vs llamadas totales"
   ]
  },
  {
   "cell_type": "markdown",
   "id": "0c066ddf",
   "metadata": {},
   "source": [
    "- Llamadas internas por tarifa"
   ]
  },
  {
   "cell_type": "code",
   "execution_count": 85,
   "id": "c72ecc79",
   "metadata": {},
   "outputs": [
    {
     "name": "stdout",
     "output_type": "stream",
     "text": [
      "-----------------\n",
      "Total de llamadas para Tarifa A: 420541\n",
      "Llamadas internas para Tarifa A: 2138\n",
      "Proporción de llamadas internas para Tarifa A: 0.005\n",
      "\n",
      "\n",
      "-----------------\n",
      "Total de llamadas para Tarifa B: 152356\n",
      "Llamadas internas para Tarifa B: 1643\n",
      "Proporción de llamadas internas para Tarifa B: 0.011\n",
      "\n",
      "\n",
      "-----------------\n",
      "Total de llamadas para Tarifa C: 200077\n",
      "Llamadas internas para Tarifa C: 2028\n",
      "Proporción de llamadas internas para Tarifa C: 0.010\n",
      "\n",
      "\n"
     ]
    }
   ],
   "source": [
    "for dataframe, nombre in zip(df_group, titulos):\n",
    "\n",
    "    print(\"-----------------\")\n",
    "    total_calls = dataframe['calls_count'].sum()\n",
    "    internal = dataframe['internal'].sum()\n",
    "    prop_internal = internal / total_calls\n",
    "    print(f\"Total de llamadas para {nombre}:\", total_calls)\n",
    "    print(f\"Llamadas internas para {nombre}:\", internal)\n",
    "    print(f\"Proporción de llamadas internas para {nombre}: {prop_internal:.3f}\", )\n",
    "    print(\"\\n\")"
   ]
  },
  {
   "cell_type": "markdown",
   "id": "6179562e",
   "metadata": {},
   "source": [
    "- Considero que lo ideal sería tratar el desempeño de los trabajadores según al cliente (tarifa) al que presten servicios, por esta variabilidad en la cantidad de llamadas entrantes y salientes\n",
    "- Por ello realizaremos 3 métricas para decidir qué se considera como un mal colaborador, según al esquema tarifario que pertenezca."
   ]
  },
  {
   "cell_type": "markdown",
   "id": "63da344a",
   "metadata": {},
   "source": [
    "### Tarifa A"
   ]
  },
  {
   "cell_type": "markdown",
   "id": "0ac96573",
   "metadata": {},
   "source": [
    "- Punto 1: - Tiene muchas llamadas entrantes perdidas (internas y externas)."
   ]
  },
  {
   "cell_type": "code",
   "execution_count": 86,
   "id": "6a519574",
   "metadata": {},
   "outputs": [
    {
     "data": {
      "application/vnd.microsoft.datawrangler.viewer.v0+json": {
       "columns": [
        {
         "name": "index",
         "rawType": "object",
         "type": "string"
        },
        {
         "name": "total_calls",
         "rawType": "float64",
         "type": "float"
        },
        {
         "name": "missed",
         "rawType": "float64",
         "type": "float"
        },
        {
         "name": "prop_missed",
         "rawType": "float64",
         "type": "float"
        }
       ],
       "conversionMethod": "pd.DataFrame",
       "ref": "d5eed9f8-961c-4681-8b76-9a57bbdd08f2",
       "rows": [
        [
         "count",
         "186.0",
         "186.0",
         "186.0"
        ],
        [
         "mean",
         "189.7741935483871",
         "1.5698924731182795",
         "0.009548387096774193"
        ],
        [
         "std",
         "450.22788533789486",
         "3.3495392162726567",
         "0.022118118354567222"
        ],
        [
         "min",
         "1.0",
         "0.0",
         "0.0"
        ],
        [
         "25%",
         "5.0",
         "0.0",
         "0.0"
        ],
        [
         "50%",
         "29.0",
         "0.0",
         "0.0"
        ],
        [
         "75%",
         "144.75",
         "1.75",
         "0.01075"
        ],
        [
         "max",
         "4110.0",
         "22.0",
         "0.167"
        ]
       ],
       "shape": {
        "columns": 3,
        "rows": 8
       }
      },
      "text/html": [
       "<div>\n",
       "<style scoped>\n",
       "    .dataframe tbody tr th:only-of-type {\n",
       "        vertical-align: middle;\n",
       "    }\n",
       "\n",
       "    .dataframe tbody tr th {\n",
       "        vertical-align: top;\n",
       "    }\n",
       "\n",
       "    .dataframe thead th {\n",
       "        text-align: right;\n",
       "    }\n",
       "</style>\n",
       "<table border=\"1\" class=\"dataframe\">\n",
       "  <thead>\n",
       "    <tr style=\"text-align: right;\">\n",
       "      <th></th>\n",
       "      <th>total_calls</th>\n",
       "      <th>missed</th>\n",
       "      <th>prop_missed</th>\n",
       "    </tr>\n",
       "  </thead>\n",
       "  <tbody>\n",
       "    <tr>\n",
       "      <th>count</th>\n",
       "      <td>186.000000</td>\n",
       "      <td>186.000000</td>\n",
       "      <td>186.000000</td>\n",
       "    </tr>\n",
       "    <tr>\n",
       "      <th>mean</th>\n",
       "      <td>189.774194</td>\n",
       "      <td>1.569892</td>\n",
       "      <td>0.009548</td>\n",
       "    </tr>\n",
       "    <tr>\n",
       "      <th>std</th>\n",
       "      <td>450.227885</td>\n",
       "      <td>3.349539</td>\n",
       "      <td>0.022118</td>\n",
       "    </tr>\n",
       "    <tr>\n",
       "      <th>min</th>\n",
       "      <td>1.000000</td>\n",
       "      <td>0.000000</td>\n",
       "      <td>0.000000</td>\n",
       "    </tr>\n",
       "    <tr>\n",
       "      <th>25%</th>\n",
       "      <td>5.000000</td>\n",
       "      <td>0.000000</td>\n",
       "      <td>0.000000</td>\n",
       "    </tr>\n",
       "    <tr>\n",
       "      <th>50%</th>\n",
       "      <td>29.000000</td>\n",
       "      <td>0.000000</td>\n",
       "      <td>0.000000</td>\n",
       "    </tr>\n",
       "    <tr>\n",
       "      <th>75%</th>\n",
       "      <td>144.750000</td>\n",
       "      <td>1.750000</td>\n",
       "      <td>0.010750</td>\n",
       "    </tr>\n",
       "    <tr>\n",
       "      <th>max</th>\n",
       "      <td>4110.000000</td>\n",
       "      <td>22.000000</td>\n",
       "      <td>0.167000</td>\n",
       "    </tr>\n",
       "  </tbody>\n",
       "</table>\n",
       "</div>"
      ],
      "text/plain": [
       "       total_calls      missed  prop_missed\n",
       "count   186.000000  186.000000   186.000000\n",
       "mean    189.774194    1.569892     0.009548\n",
       "std     450.227885    3.349539     0.022118\n",
       "min       1.000000    0.000000     0.000000\n",
       "25%       5.000000    0.000000     0.000000\n",
       "50%      29.000000    0.000000     0.000000\n",
       "75%     144.750000    1.750000     0.010750\n",
       "max    4110.000000   22.000000     0.167000"
      ]
     },
     "execution_count": 86,
     "metadata": {},
     "output_type": "execute_result"
    }
   ],
   "source": [
    "# Tarifa A\n",
    "\n",
    "df_merged_A_in = df_merged_A[df_merged_A['direction'] == \"in\"]\n",
    "df_A1 = df_merged_A_in.groupby('operator_id').agg(total_calls = ('calls_count','sum'), missed = ('is_missed_call','sum'))\n",
    "df_A1['prop_missed'] = (df_A1['missed'] / df_A1['total_calls']).round(3)\n",
    "\n",
    "df_A1.describe()"
   ]
  },
  {
   "cell_type": "markdown",
   "id": "75a25a7d",
   "metadata": {},
   "source": [
    "    - Podemos observar que en el 25% de datos restantes tenemos diferencias significativas en la proporción de llamadas de espera. Intentaremos reducir ese número para saber qué porcentaje está cayendo en la categoría de \"operador ineficiente\"."
   ]
  },
  {
   "cell_type": "code",
   "execution_count": 87,
   "id": "a8282d12",
   "metadata": {},
   "outputs": [
    {
     "data": {
      "text/plain": [
       "array([0.01075, 0.015  , 0.04375])"
      ]
     },
     "execution_count": 87,
     "metadata": {},
     "output_type": "execute_result"
    }
   ],
   "source": [
    "np.percentile(df_A1['prop_missed'], [75, 80, 95])"
   ]
  },
  {
   "cell_type": "markdown",
   "id": "7af2f258",
   "metadata": {},
   "source": [
    "    - Parece ser que para el grupo de la tarifa A, considerar el 20% de operadores que están con más proporción de llamadas perdidas, es un buen dato por tomar."
   ]
  },
  {
   "cell_type": "code",
   "execution_count": 88,
   "id": "d11cdc69",
   "metadata": {},
   "outputs": [
    {
     "data": {
      "application/vnd.microsoft.datawrangler.viewer.v0+json": {
       "columns": [
        {
         "name": "index",
         "rawType": "int64",
         "type": "integer"
        },
        {
         "name": "operator_id",
         "rawType": "int64",
         "type": "integer"
        },
        {
         "name": "total_calls",
         "rawType": "int64",
         "type": "integer"
        },
        {
         "name": "missed",
         "rawType": "int64",
         "type": "integer"
        },
        {
         "name": "prop_missed",
         "rawType": "float64",
         "type": "float"
        }
       ],
       "conversionMethod": "pd.DataFrame",
       "ref": "f13781ad-3a49-4d17-b101-c1f9292e7690",
       "rows": [
        [
         "0",
         "885876",
         "1152",
         "21",
         "0.018"
        ],
        [
         "1",
         "885890",
         "1363",
         "22",
         "0.016"
        ],
        [
         "2",
         "888532",
         "12",
         "2",
         "0.167"
        ],
        [
         "3",
         "888534",
         "61",
         "2",
         "0.033"
        ],
        [
         "4",
         "896538",
         "14",
         "1",
         "0.071"
        ],
        [
         "5",
         "906392",
         "19",
         "2",
         "0.105"
        ],
        [
         "6",
         "906396",
         "128",
         "3",
         "0.023"
        ],
        [
         "7",
         "906400",
         "143",
         "5",
         "0.035"
        ],
        [
         "8",
         "906408",
         "264",
         "4",
         "0.015"
        ],
        [
         "9",
         "906410",
         "244",
         "6",
         "0.025"
        ],
        [
         "10",
         "906412",
         "26",
         "2",
         "0.077"
        ],
        [
         "11",
         "912296",
         "176",
         "3",
         "0.017"
        ],
        [
         "12",
         "918436",
         "40",
         "1",
         "0.025"
        ],
        [
         "13",
         "924928",
         "33",
         "1",
         "0.03"
        ],
        [
         "14",
         "924930",
         "22",
         "1",
         "0.045"
        ],
        [
         "15",
         "924936",
         "8",
         "1",
         "0.125"
        ],
        [
         "16",
         "924948",
         "17",
         "1",
         "0.059"
        ],
        [
         "17",
         "924954",
         "20",
         "1",
         "0.05"
        ],
        [
         "18",
         "924960",
         "54",
         "1",
         "0.019"
        ],
        [
         "19",
         "925922",
         "456",
         "9",
         "0.02"
        ],
        [
         "20",
         "929876",
         "36",
         "1",
         "0.028"
        ],
        [
         "21",
         "937732",
         "131",
         "2",
         "0.015"
        ],
        [
         "22",
         "937750",
         "61",
         "1",
         "0.016"
        ],
        [
         "23",
         "937860",
         "240",
         "4",
         "0.017"
        ],
        [
         "24",
         "937864",
         "49",
         "1",
         "0.02"
        ],
        [
         "25",
         "937868",
         "67",
         "1",
         "0.015"
        ],
        [
         "26",
         "937874",
         "23",
         "1",
         "0.043"
        ],
        [
         "27",
         "937898",
         "9",
         "1",
         "0.111"
        ],
        [
         "28",
         "937958",
         "303",
         "6",
         "0.02"
        ],
        [
         "29",
         "937962",
         "117",
         "4",
         "0.034"
        ],
        [
         "30",
         "938614",
         "44",
         "1",
         "0.023"
        ],
        [
         "31",
         "940614",
         "145",
         "3",
         "0.021"
        ],
        [
         "32",
         "940622",
         "729",
         "12",
         "0.016"
        ],
        [
         "33",
         "940652",
         "414",
         "7",
         "0.017"
        ],
        [
         "34",
         "948286",
         "384",
         "6",
         "0.016"
        ],
        [
         "35",
         "948288",
         "24",
         "1",
         "0.042"
        ],
        [
         "36",
         "951508",
         "339",
         "12",
         "0.035"
        ],
        [
         "37",
         "964666",
         "45",
         "2",
         "0.044"
        ]
       ],
       "shape": {
        "columns": 4,
        "rows": 38
       }
      },
      "text/html": [
       "<div>\n",
       "<style scoped>\n",
       "    .dataframe tbody tr th:only-of-type {\n",
       "        vertical-align: middle;\n",
       "    }\n",
       "\n",
       "    .dataframe tbody tr th {\n",
       "        vertical-align: top;\n",
       "    }\n",
       "\n",
       "    .dataframe thead th {\n",
       "        text-align: right;\n",
       "    }\n",
       "</style>\n",
       "<table border=\"1\" class=\"dataframe\">\n",
       "  <thead>\n",
       "    <tr style=\"text-align: right;\">\n",
       "      <th></th>\n",
       "      <th>operator_id</th>\n",
       "      <th>total_calls</th>\n",
       "      <th>missed</th>\n",
       "      <th>prop_missed</th>\n",
       "    </tr>\n",
       "  </thead>\n",
       "  <tbody>\n",
       "    <tr>\n",
       "      <th>0</th>\n",
       "      <td>885876</td>\n",
       "      <td>1152</td>\n",
       "      <td>21</td>\n",
       "      <td>0.018</td>\n",
       "    </tr>\n",
       "    <tr>\n",
       "      <th>1</th>\n",
       "      <td>885890</td>\n",
       "      <td>1363</td>\n",
       "      <td>22</td>\n",
       "      <td>0.016</td>\n",
       "    </tr>\n",
       "    <tr>\n",
       "      <th>2</th>\n",
       "      <td>888532</td>\n",
       "      <td>12</td>\n",
       "      <td>2</td>\n",
       "      <td>0.167</td>\n",
       "    </tr>\n",
       "    <tr>\n",
       "      <th>3</th>\n",
       "      <td>888534</td>\n",
       "      <td>61</td>\n",
       "      <td>2</td>\n",
       "      <td>0.033</td>\n",
       "    </tr>\n",
       "    <tr>\n",
       "      <th>4</th>\n",
       "      <td>896538</td>\n",
       "      <td>14</td>\n",
       "      <td>1</td>\n",
       "      <td>0.071</td>\n",
       "    </tr>\n",
       "    <tr>\n",
       "      <th>5</th>\n",
       "      <td>906392</td>\n",
       "      <td>19</td>\n",
       "      <td>2</td>\n",
       "      <td>0.105</td>\n",
       "    </tr>\n",
       "    <tr>\n",
       "      <th>6</th>\n",
       "      <td>906396</td>\n",
       "      <td>128</td>\n",
       "      <td>3</td>\n",
       "      <td>0.023</td>\n",
       "    </tr>\n",
       "    <tr>\n",
       "      <th>7</th>\n",
       "      <td>906400</td>\n",
       "      <td>143</td>\n",
       "      <td>5</td>\n",
       "      <td>0.035</td>\n",
       "    </tr>\n",
       "    <tr>\n",
       "      <th>8</th>\n",
       "      <td>906408</td>\n",
       "      <td>264</td>\n",
       "      <td>4</td>\n",
       "      <td>0.015</td>\n",
       "    </tr>\n",
       "    <tr>\n",
       "      <th>9</th>\n",
       "      <td>906410</td>\n",
       "      <td>244</td>\n",
       "      <td>6</td>\n",
       "      <td>0.025</td>\n",
       "    </tr>\n",
       "    <tr>\n",
       "      <th>10</th>\n",
       "      <td>906412</td>\n",
       "      <td>26</td>\n",
       "      <td>2</td>\n",
       "      <td>0.077</td>\n",
       "    </tr>\n",
       "    <tr>\n",
       "      <th>11</th>\n",
       "      <td>912296</td>\n",
       "      <td>176</td>\n",
       "      <td>3</td>\n",
       "      <td>0.017</td>\n",
       "    </tr>\n",
       "    <tr>\n",
       "      <th>12</th>\n",
       "      <td>918436</td>\n",
       "      <td>40</td>\n",
       "      <td>1</td>\n",
       "      <td>0.025</td>\n",
       "    </tr>\n",
       "    <tr>\n",
       "      <th>13</th>\n",
       "      <td>924928</td>\n",
       "      <td>33</td>\n",
       "      <td>1</td>\n",
       "      <td>0.030</td>\n",
       "    </tr>\n",
       "    <tr>\n",
       "      <th>14</th>\n",
       "      <td>924930</td>\n",
       "      <td>22</td>\n",
       "      <td>1</td>\n",
       "      <td>0.045</td>\n",
       "    </tr>\n",
       "    <tr>\n",
       "      <th>15</th>\n",
       "      <td>924936</td>\n",
       "      <td>8</td>\n",
       "      <td>1</td>\n",
       "      <td>0.125</td>\n",
       "    </tr>\n",
       "    <tr>\n",
       "      <th>16</th>\n",
       "      <td>924948</td>\n",
       "      <td>17</td>\n",
       "      <td>1</td>\n",
       "      <td>0.059</td>\n",
       "    </tr>\n",
       "    <tr>\n",
       "      <th>17</th>\n",
       "      <td>924954</td>\n",
       "      <td>20</td>\n",
       "      <td>1</td>\n",
       "      <td>0.050</td>\n",
       "    </tr>\n",
       "    <tr>\n",
       "      <th>18</th>\n",
       "      <td>924960</td>\n",
       "      <td>54</td>\n",
       "      <td>1</td>\n",
       "      <td>0.019</td>\n",
       "    </tr>\n",
       "    <tr>\n",
       "      <th>19</th>\n",
       "      <td>925922</td>\n",
       "      <td>456</td>\n",
       "      <td>9</td>\n",
       "      <td>0.020</td>\n",
       "    </tr>\n",
       "    <tr>\n",
       "      <th>20</th>\n",
       "      <td>929876</td>\n",
       "      <td>36</td>\n",
       "      <td>1</td>\n",
       "      <td>0.028</td>\n",
       "    </tr>\n",
       "    <tr>\n",
       "      <th>21</th>\n",
       "      <td>937732</td>\n",
       "      <td>131</td>\n",
       "      <td>2</td>\n",
       "      <td>0.015</td>\n",
       "    </tr>\n",
       "    <tr>\n",
       "      <th>22</th>\n",
       "      <td>937750</td>\n",
       "      <td>61</td>\n",
       "      <td>1</td>\n",
       "      <td>0.016</td>\n",
       "    </tr>\n",
       "    <tr>\n",
       "      <th>23</th>\n",
       "      <td>937860</td>\n",
       "      <td>240</td>\n",
       "      <td>4</td>\n",
       "      <td>0.017</td>\n",
       "    </tr>\n",
       "    <tr>\n",
       "      <th>24</th>\n",
       "      <td>937864</td>\n",
       "      <td>49</td>\n",
       "      <td>1</td>\n",
       "      <td>0.020</td>\n",
       "    </tr>\n",
       "    <tr>\n",
       "      <th>25</th>\n",
       "      <td>937868</td>\n",
       "      <td>67</td>\n",
       "      <td>1</td>\n",
       "      <td>0.015</td>\n",
       "    </tr>\n",
       "    <tr>\n",
       "      <th>26</th>\n",
       "      <td>937874</td>\n",
       "      <td>23</td>\n",
       "      <td>1</td>\n",
       "      <td>0.043</td>\n",
       "    </tr>\n",
       "    <tr>\n",
       "      <th>27</th>\n",
       "      <td>937898</td>\n",
       "      <td>9</td>\n",
       "      <td>1</td>\n",
       "      <td>0.111</td>\n",
       "    </tr>\n",
       "    <tr>\n",
       "      <th>28</th>\n",
       "      <td>937958</td>\n",
       "      <td>303</td>\n",
       "      <td>6</td>\n",
       "      <td>0.020</td>\n",
       "    </tr>\n",
       "    <tr>\n",
       "      <th>29</th>\n",
       "      <td>937962</td>\n",
       "      <td>117</td>\n",
       "      <td>4</td>\n",
       "      <td>0.034</td>\n",
       "    </tr>\n",
       "    <tr>\n",
       "      <th>30</th>\n",
       "      <td>938614</td>\n",
       "      <td>44</td>\n",
       "      <td>1</td>\n",
       "      <td>0.023</td>\n",
       "    </tr>\n",
       "    <tr>\n",
       "      <th>31</th>\n",
       "      <td>940614</td>\n",
       "      <td>145</td>\n",
       "      <td>3</td>\n",
       "      <td>0.021</td>\n",
       "    </tr>\n",
       "    <tr>\n",
       "      <th>32</th>\n",
       "      <td>940622</td>\n",
       "      <td>729</td>\n",
       "      <td>12</td>\n",
       "      <td>0.016</td>\n",
       "    </tr>\n",
       "    <tr>\n",
       "      <th>33</th>\n",
       "      <td>940652</td>\n",
       "      <td>414</td>\n",
       "      <td>7</td>\n",
       "      <td>0.017</td>\n",
       "    </tr>\n",
       "    <tr>\n",
       "      <th>34</th>\n",
       "      <td>948286</td>\n",
       "      <td>384</td>\n",
       "      <td>6</td>\n",
       "      <td>0.016</td>\n",
       "    </tr>\n",
       "    <tr>\n",
       "      <th>35</th>\n",
       "      <td>948288</td>\n",
       "      <td>24</td>\n",
       "      <td>1</td>\n",
       "      <td>0.042</td>\n",
       "    </tr>\n",
       "    <tr>\n",
       "      <th>36</th>\n",
       "      <td>951508</td>\n",
       "      <td>339</td>\n",
       "      <td>12</td>\n",
       "      <td>0.035</td>\n",
       "    </tr>\n",
       "    <tr>\n",
       "      <th>37</th>\n",
       "      <td>964666</td>\n",
       "      <td>45</td>\n",
       "      <td>2</td>\n",
       "      <td>0.044</td>\n",
       "    </tr>\n",
       "  </tbody>\n",
       "</table>\n",
       "</div>"
      ],
      "text/plain": [
       "    operator_id  total_calls  missed  prop_missed\n",
       "0        885876         1152      21        0.018\n",
       "1        885890         1363      22        0.016\n",
       "2        888532           12       2        0.167\n",
       "3        888534           61       2        0.033\n",
       "4        896538           14       1        0.071\n",
       "5        906392           19       2        0.105\n",
       "6        906396          128       3        0.023\n",
       "7        906400          143       5        0.035\n",
       "8        906408          264       4        0.015\n",
       "9        906410          244       6        0.025\n",
       "10       906412           26       2        0.077\n",
       "11       912296          176       3        0.017\n",
       "12       918436           40       1        0.025\n",
       "13       924928           33       1        0.030\n",
       "14       924930           22       1        0.045\n",
       "15       924936            8       1        0.125\n",
       "16       924948           17       1        0.059\n",
       "17       924954           20       1        0.050\n",
       "18       924960           54       1        0.019\n",
       "19       925922          456       9        0.020\n",
       "20       929876           36       1        0.028\n",
       "21       937732          131       2        0.015\n",
       "22       937750           61       1        0.016\n",
       "23       937860          240       4        0.017\n",
       "24       937864           49       1        0.020\n",
       "25       937868           67       1        0.015\n",
       "26       937874           23       1        0.043\n",
       "27       937898            9       1        0.111\n",
       "28       937958          303       6        0.020\n",
       "29       937962          117       4        0.034\n",
       "30       938614           44       1        0.023\n",
       "31       940614          145       3        0.021\n",
       "32       940622          729      12        0.016\n",
       "33       940652          414       7        0.017\n",
       "34       948286          384       6        0.016\n",
       "35       948288           24       1        0.042\n",
       "36       951508          339      12        0.035\n",
       "37       964666           45       2        0.044"
      ]
     },
     "execution_count": 88,
     "metadata": {},
     "output_type": "execute_result"
    }
   ],
   "source": [
    "df_A1[df_A1['prop_missed'] >= df_A1['prop_missed'].quantile(1-0.2)].reset_index()"
   ]
  },
  {
   "cell_type": "markdown",
   "id": "ecfc4a4f",
   "metadata": {},
   "source": [
    "- Punto 2: Tiene mucho tiempo de espera en llamadas entrantes."
   ]
  },
  {
   "cell_type": "code",
   "execution_count": 89,
   "id": "0d861960",
   "metadata": {},
   "outputs": [
    {
     "data": {
      "application/vnd.microsoft.datawrangler.viewer.v0+json": {
       "columns": [
        {
         "name": "index",
         "rawType": "object",
         "type": "string"
        },
        {
         "name": "operator_id",
         "rawType": "float64",
         "type": "float"
        },
        {
         "name": "avg_waiting_time",
         "rawType": "float64",
         "type": "float"
        }
       ],
       "conversionMethod": "pd.DataFrame",
       "ref": "da1ec405-4879-4026-85cd-d201e1bf21f3",
       "rows": [
        [
         "count",
         "186.0",
         "186.0"
        ],
        [
         "mean",
         "927398.2258064516",
         "17.12789209683044"
        ],
        [
         "std",
         "20079.803890842202",
         "13.60903949925139"
        ],
        [
         "min",
         "884294.0",
         "0.6637037037037037"
        ],
        [
         "25%",
         "911292.5",
         "8.582277521423862"
        ],
        [
         "50%",
         "937746.0",
         "13.381944444444445"
        ],
        [
         "75%",
         "940554.5",
         "21.719"
        ],
        [
         "max",
         "968520.0",
         "100.0"
        ]
       ],
       "shape": {
        "columns": 2,
        "rows": 8
       }
      },
      "text/html": [
       "<div>\n",
       "<style scoped>\n",
       "    .dataframe tbody tr th:only-of-type {\n",
       "        vertical-align: middle;\n",
       "    }\n",
       "\n",
       "    .dataframe tbody tr th {\n",
       "        vertical-align: top;\n",
       "    }\n",
       "\n",
       "    .dataframe thead th {\n",
       "        text-align: right;\n",
       "    }\n",
       "</style>\n",
       "<table border=\"1\" class=\"dataframe\">\n",
       "  <thead>\n",
       "    <tr style=\"text-align: right;\">\n",
       "      <th></th>\n",
       "      <th>operator_id</th>\n",
       "      <th>avg_waiting_time</th>\n",
       "    </tr>\n",
       "  </thead>\n",
       "  <tbody>\n",
       "    <tr>\n",
       "      <th>count</th>\n",
       "      <td>186.000000</td>\n",
       "      <td>186.000000</td>\n",
       "    </tr>\n",
       "    <tr>\n",
       "      <th>mean</th>\n",
       "      <td>927398.225806</td>\n",
       "      <td>17.127892</td>\n",
       "    </tr>\n",
       "    <tr>\n",
       "      <th>std</th>\n",
       "      <td>20079.803891</td>\n",
       "      <td>13.609039</td>\n",
       "    </tr>\n",
       "    <tr>\n",
       "      <th>min</th>\n",
       "      <td>884294.000000</td>\n",
       "      <td>0.663704</td>\n",
       "    </tr>\n",
       "    <tr>\n",
       "      <th>25%</th>\n",
       "      <td>911292.500000</td>\n",
       "      <td>8.582278</td>\n",
       "    </tr>\n",
       "    <tr>\n",
       "      <th>50%</th>\n",
       "      <td>937746.000000</td>\n",
       "      <td>13.381944</td>\n",
       "    </tr>\n",
       "    <tr>\n",
       "      <th>75%</th>\n",
       "      <td>940554.500000</td>\n",
       "      <td>21.719000</td>\n",
       "    </tr>\n",
       "    <tr>\n",
       "      <th>max</th>\n",
       "      <td>968520.000000</td>\n",
       "      <td>100.000000</td>\n",
       "    </tr>\n",
       "  </tbody>\n",
       "</table>\n",
       "</div>"
      ],
      "text/plain": [
       "         operator_id  avg_waiting_time\n",
       "count     186.000000        186.000000\n",
       "mean   927398.225806         17.127892\n",
       "std     20079.803891         13.609039\n",
       "min    884294.000000          0.663704\n",
       "25%    911292.500000          8.582278\n",
       "50%    937746.000000         13.381944\n",
       "75%    940554.500000         21.719000\n",
       "max    968520.000000        100.000000"
      ]
     },
     "execution_count": 89,
     "metadata": {},
     "output_type": "execute_result"
    }
   ],
   "source": [
    "# Tarifa A\n",
    "\n",
    "df_A2 = df_merged_A_in[df_merged_A_in['is_missed_call'] == False]\n",
    "df_A2 = df_A2.groupby('operator_id').agg(avg_waiting_time = ('avg_waiting_time','mean')).reset_index()\n",
    "\n",
    "df_A2.describe()"
   ]
  },
  {
   "cell_type": "markdown",
   "id": "86c63152",
   "metadata": {},
   "source": [
    "    - Encontramos un pico de tiempo promedio de espera a partir del 75% de los datos, pasando de 21 a 100 en una pequeña porción de todo el dataset. Averiguaremos más al respecto."
   ]
  },
  {
   "cell_type": "code",
   "execution_count": 90,
   "id": "3d6f667e",
   "metadata": {},
   "outputs": [
    {
     "data": {
      "text/plain": [
       "array([21.719     , 24.171     , 34.10269231])"
      ]
     },
     "execution_count": 90,
     "metadata": {},
     "output_type": "execute_result"
    }
   ],
   "source": [
    "np.percentile(df_A2['avg_waiting_time'], [75,80,90])"
   ]
  },
  {
   "cell_type": "markdown",
   "id": "97eafea9",
   "metadata": {},
   "source": [
    "    - Considero que si tomáramos el 25% de operadores con mayor tiempo de espera, es un buen valor para determinar que están siendo poco eficientes."
   ]
  },
  {
   "cell_type": "markdown",
   "id": "36a30e9a",
   "metadata": {},
   "source": [
    "- Punto 3: Tiene pocas llamadas salientes (si debe hacerlas)."
   ]
  },
  {
   "cell_type": "code",
   "execution_count": 91,
   "id": "a7c29921",
   "metadata": {},
   "outputs": [
    {
     "data": {
      "application/vnd.microsoft.datawrangler.viewer.v0+json": {
       "columns": [
        {
         "name": "index",
         "rawType": "object",
         "type": "string"
        },
        {
         "name": "operator_id",
         "rawType": "float64",
         "type": "float"
        },
        {
         "name": "out_calls",
         "rawType": "float64",
         "type": "float"
        }
       ],
       "conversionMethod": "pd.DataFrame",
       "ref": "98bd4bf8-2d4d-49b0-9f40-574a7991e4dd",
       "rows": [
        [
         "count",
         "278.0",
         "278.0"
        ],
        [
         "mean",
         "930237.6690647482",
         "1385.7661870503598"
        ],
        [
         "std",
         "17711.723486369006",
         "5744.335441105053"
        ],
        [
         "min",
         "885876.0",
         "1.0"
        ],
        [
         "25%",
         "919303.0",
         "23.5"
        ],
        [
         "50%",
         "937751.0",
         "225.0"
        ],
        [
         "75%",
         "945224.0",
         "1320.75"
        ],
        [
         "max",
         "966686.0",
         "64897.0"
        ]
       ],
       "shape": {
        "columns": 2,
        "rows": 8
       }
      },
      "text/html": [
       "<div>\n",
       "<style scoped>\n",
       "    .dataframe tbody tr th:only-of-type {\n",
       "        vertical-align: middle;\n",
       "    }\n",
       "\n",
       "    .dataframe tbody tr th {\n",
       "        vertical-align: top;\n",
       "    }\n",
       "\n",
       "    .dataframe thead th {\n",
       "        text-align: right;\n",
       "    }\n",
       "</style>\n",
       "<table border=\"1\" class=\"dataframe\">\n",
       "  <thead>\n",
       "    <tr style=\"text-align: right;\">\n",
       "      <th></th>\n",
       "      <th>operator_id</th>\n",
       "      <th>out_calls</th>\n",
       "    </tr>\n",
       "  </thead>\n",
       "  <tbody>\n",
       "    <tr>\n",
       "      <th>count</th>\n",
       "      <td>278.000000</td>\n",
       "      <td>278.000000</td>\n",
       "    </tr>\n",
       "    <tr>\n",
       "      <th>mean</th>\n",
       "      <td>930237.669065</td>\n",
       "      <td>1385.766187</td>\n",
       "    </tr>\n",
       "    <tr>\n",
       "      <th>std</th>\n",
       "      <td>17711.723486</td>\n",
       "      <td>5744.335441</td>\n",
       "    </tr>\n",
       "    <tr>\n",
       "      <th>min</th>\n",
       "      <td>885876.000000</td>\n",
       "      <td>1.000000</td>\n",
       "    </tr>\n",
       "    <tr>\n",
       "      <th>25%</th>\n",
       "      <td>919303.000000</td>\n",
       "      <td>23.500000</td>\n",
       "    </tr>\n",
       "    <tr>\n",
       "      <th>50%</th>\n",
       "      <td>937751.000000</td>\n",
       "      <td>225.000000</td>\n",
       "    </tr>\n",
       "    <tr>\n",
       "      <th>75%</th>\n",
       "      <td>945224.000000</td>\n",
       "      <td>1320.750000</td>\n",
       "    </tr>\n",
       "    <tr>\n",
       "      <th>max</th>\n",
       "      <td>966686.000000</td>\n",
       "      <td>64897.000000</td>\n",
       "    </tr>\n",
       "  </tbody>\n",
       "</table>\n",
       "</div>"
      ],
      "text/plain": [
       "         operator_id     out_calls\n",
       "count     278.000000    278.000000\n",
       "mean   930237.669065   1385.766187\n",
       "std     17711.723486   5744.335441\n",
       "min    885876.000000      1.000000\n",
       "25%    919303.000000     23.500000\n",
       "50%    937751.000000    225.000000\n",
       "75%    945224.000000   1320.750000\n",
       "max    966686.000000  64897.000000"
      ]
     },
     "execution_count": 91,
     "metadata": {},
     "output_type": "execute_result"
    }
   ],
   "source": [
    "# Tarifa A\n",
    "\n",
    "df_A3 = df_merged_A[df_merged_A['direction'] == \"out\"]\n",
    "\n",
    "df_A3 = df_A3.groupby('operator_id').agg(out_calls = ('calls_count', 'sum')).reset_index()\n",
    "\n",
    "df_A3.describe()"
   ]
  },
  {
   "cell_type": "markdown",
   "id": "5a7ec064",
   "metadata": {},
   "source": [
    "    - Me da la impresión que escala muy rápido la medida de llamadas salientes para este grupo tarifario, hay mucha variación en los valores. Investigamos más al respecto."
   ]
  },
  {
   "cell_type": "code",
   "execution_count": 92,
   "id": "6fc07b60",
   "metadata": {},
   "outputs": [
    {
     "data": {
      "text/plain": [
       "array([ 93. , 225. , 553.2])"
      ]
     },
     "execution_count": 92,
     "metadata": {},
     "output_type": "execute_result"
    }
   ],
   "source": [
    "np.percentile(df_A3['out_calls'], [40, 50, 60])"
   ]
  },
  {
   "cell_type": "markdown",
   "id": "df7c5854",
   "metadata": {},
   "source": [
    "    - Del 40 al 60% de los datos hay bastante cambio en la cantidad de llamadas, me quedaré con el 40% de menos llamadas realizadas."
   ]
  },
  {
   "cell_type": "markdown",
   "id": "201dce9f",
   "metadata": {},
   "source": [
    "### Tarifa B"
   ]
  },
  {
   "cell_type": "markdown",
   "id": "8bce14be",
   "metadata": {},
   "source": [
    "- Punto 1: - Tiene muchas llamadas entrantes perdidas (internas y externas)."
   ]
  },
  {
   "cell_type": "code",
   "execution_count": 93,
   "id": "ba6a9034",
   "metadata": {},
   "outputs": [
    {
     "data": {
      "application/vnd.microsoft.datawrangler.viewer.v0+json": {
       "columns": [
        {
         "name": "index",
         "rawType": "object",
         "type": "string"
        },
        {
         "name": "total_calls",
         "rawType": "float64",
         "type": "float"
        },
        {
         "name": "missed",
         "rawType": "float64",
         "type": "float"
        },
        {
         "name": "prop_missed",
         "rawType": "float64",
         "type": "float"
        }
       ],
       "conversionMethod": "pd.DataFrame",
       "ref": "b1669fdc-88e4-43f8-8167-04d1f378338c",
       "rows": [
        [
         "count",
         "276.0",
         "276.0",
         "276.0"
        ],
        [
         "mean",
         "112.73550724637681",
         "0.9130434782608695",
         "0.015083333333333334"
        ],
        [
         "std",
         "404.98407462304885",
         "2.9430429790073713",
         "0.04934100575064161"
        ],
        [
         "min",
         "1.0",
         "0.0",
         "0.0"
        ],
        [
         "25%",
         "3.75",
         "0.0",
         "0.0"
        ],
        [
         "50%",
         "13.0",
         "0.0",
         "0.0"
        ],
        [
         "75%",
         "62.0",
         "1.0",
         "0.004"
        ],
        [
         "max",
         "5221.0",
         "29.0",
         "0.5"
        ]
       ],
       "shape": {
        "columns": 3,
        "rows": 8
       }
      },
      "text/html": [
       "<div>\n",
       "<style scoped>\n",
       "    .dataframe tbody tr th:only-of-type {\n",
       "        vertical-align: middle;\n",
       "    }\n",
       "\n",
       "    .dataframe tbody tr th {\n",
       "        vertical-align: top;\n",
       "    }\n",
       "\n",
       "    .dataframe thead th {\n",
       "        text-align: right;\n",
       "    }\n",
       "</style>\n",
       "<table border=\"1\" class=\"dataframe\">\n",
       "  <thead>\n",
       "    <tr style=\"text-align: right;\">\n",
       "      <th></th>\n",
       "      <th>total_calls</th>\n",
       "      <th>missed</th>\n",
       "      <th>prop_missed</th>\n",
       "    </tr>\n",
       "  </thead>\n",
       "  <tbody>\n",
       "    <tr>\n",
       "      <th>count</th>\n",
       "      <td>276.000000</td>\n",
       "      <td>276.000000</td>\n",
       "      <td>276.000000</td>\n",
       "    </tr>\n",
       "    <tr>\n",
       "      <th>mean</th>\n",
       "      <td>112.735507</td>\n",
       "      <td>0.913043</td>\n",
       "      <td>0.015083</td>\n",
       "    </tr>\n",
       "    <tr>\n",
       "      <th>std</th>\n",
       "      <td>404.984075</td>\n",
       "      <td>2.943043</td>\n",
       "      <td>0.049341</td>\n",
       "    </tr>\n",
       "    <tr>\n",
       "      <th>min</th>\n",
       "      <td>1.000000</td>\n",
       "      <td>0.000000</td>\n",
       "      <td>0.000000</td>\n",
       "    </tr>\n",
       "    <tr>\n",
       "      <th>25%</th>\n",
       "      <td>3.750000</td>\n",
       "      <td>0.000000</td>\n",
       "      <td>0.000000</td>\n",
       "    </tr>\n",
       "    <tr>\n",
       "      <th>50%</th>\n",
       "      <td>13.000000</td>\n",
       "      <td>0.000000</td>\n",
       "      <td>0.000000</td>\n",
       "    </tr>\n",
       "    <tr>\n",
       "      <th>75%</th>\n",
       "      <td>62.000000</td>\n",
       "      <td>1.000000</td>\n",
       "      <td>0.004000</td>\n",
       "    </tr>\n",
       "    <tr>\n",
       "      <th>max</th>\n",
       "      <td>5221.000000</td>\n",
       "      <td>29.000000</td>\n",
       "      <td>0.500000</td>\n",
       "    </tr>\n",
       "  </tbody>\n",
       "</table>\n",
       "</div>"
      ],
      "text/plain": [
       "       total_calls      missed  prop_missed\n",
       "count   276.000000  276.000000   276.000000\n",
       "mean    112.735507    0.913043     0.015083\n",
       "std     404.984075    2.943043     0.049341\n",
       "min       1.000000    0.000000     0.000000\n",
       "25%       3.750000    0.000000     0.000000\n",
       "50%      13.000000    0.000000     0.000000\n",
       "75%      62.000000    1.000000     0.004000\n",
       "max    5221.000000   29.000000     0.500000"
      ]
     },
     "execution_count": 93,
     "metadata": {},
     "output_type": "execute_result"
    }
   ],
   "source": [
    "# Tarifa B\n",
    "\n",
    "df_merged_B_in = df_merged_B[df_merged_B['direction'] == \"in\"]\n",
    "df_B1 = df_merged_B_in.groupby('operator_id').agg(total_calls = ('calls_count','sum'), missed = ('is_missed_call','sum'))\n",
    "df_B1['prop_missed'] = (df_B1['missed'] / df_B1['total_calls']).round(3)\n",
    "\n",
    "df_B1.describe()"
   ]
  },
  {
   "cell_type": "markdown",
   "id": "41269658",
   "metadata": {},
   "source": [
    "    - Acá parece ser que son pocos los operadores que destacan en este dataset de llamadas perdidas, buscaremos cuál valor es el ideal de extracción de datos."
   ]
  },
  {
   "cell_type": "code",
   "execution_count": 94,
   "id": "823dc1f8",
   "metadata": {},
   "outputs": [
    {
     "data": {
      "text/plain": [
       "array([0.004 , 0.0165, 0.043 ])"
      ]
     },
     "execution_count": 94,
     "metadata": {},
     "output_type": "execute_result"
    }
   ],
   "source": [
    "np.percentile(df_B1['prop_missed'], [75, 85, 90])"
   ]
  },
  {
   "cell_type": "markdown",
   "id": "a7b50ebd",
   "metadata": {},
   "source": [
    "    - A mi parecer, podemos quedarnos con el 15% de los datos y tendríamos un buen criterio de personal ineficiente."
   ]
  },
  {
   "cell_type": "markdown",
   "id": "301c50b3",
   "metadata": {},
   "source": [
    "- Punto 2: Tiene mucho tiempo de espera en llamadas entrantes."
   ]
  },
  {
   "cell_type": "code",
   "execution_count": 95,
   "id": "dc0db8b9",
   "metadata": {},
   "outputs": [
    {
     "data": {
      "application/vnd.microsoft.datawrangler.viewer.v0+json": {
       "columns": [
        {
         "name": "index",
         "rawType": "object",
         "type": "string"
        },
        {
         "name": "operator_id",
         "rawType": "float64",
         "type": "float"
        },
        {
         "name": "avg_waiting_time",
         "rawType": "float64",
         "type": "float"
        }
       ],
       "conversionMethod": "pd.DataFrame",
       "ref": "081093e9-13e3-414d-aa7c-d92e54725a71",
       "rows": [
        [
         "count",
         "276.0",
         "276.0"
        ],
        [
         "mean",
         "922526.7898550725",
         "19.128375774020547"
        ],
        [
         "std",
         "24356.952592772923",
         "13.285693088652163"
        ],
        [
         "min",
         "879896.0",
         "1.0"
        ],
        [
         "25%",
         "900999.0",
         "10.550735294117647"
        ],
        [
         "50%",
         "920727.0",
         "15.432939876215737"
        ],
        [
         "75%",
         "939850.5",
         "23.892734375"
        ],
        [
         "max",
         "973286.0",
         "115.5"
        ]
       ],
       "shape": {
        "columns": 2,
        "rows": 8
       }
      },
      "text/html": [
       "<div>\n",
       "<style scoped>\n",
       "    .dataframe tbody tr th:only-of-type {\n",
       "        vertical-align: middle;\n",
       "    }\n",
       "\n",
       "    .dataframe tbody tr th {\n",
       "        vertical-align: top;\n",
       "    }\n",
       "\n",
       "    .dataframe thead th {\n",
       "        text-align: right;\n",
       "    }\n",
       "</style>\n",
       "<table border=\"1\" class=\"dataframe\">\n",
       "  <thead>\n",
       "    <tr style=\"text-align: right;\">\n",
       "      <th></th>\n",
       "      <th>operator_id</th>\n",
       "      <th>avg_waiting_time</th>\n",
       "    </tr>\n",
       "  </thead>\n",
       "  <tbody>\n",
       "    <tr>\n",
       "      <th>count</th>\n",
       "      <td>276.000000</td>\n",
       "      <td>276.000000</td>\n",
       "    </tr>\n",
       "    <tr>\n",
       "      <th>mean</th>\n",
       "      <td>922526.789855</td>\n",
       "      <td>19.128376</td>\n",
       "    </tr>\n",
       "    <tr>\n",
       "      <th>std</th>\n",
       "      <td>24356.952593</td>\n",
       "      <td>13.285693</td>\n",
       "    </tr>\n",
       "    <tr>\n",
       "      <th>min</th>\n",
       "      <td>879896.000000</td>\n",
       "      <td>1.000000</td>\n",
       "    </tr>\n",
       "    <tr>\n",
       "      <th>25%</th>\n",
       "      <td>900999.000000</td>\n",
       "      <td>10.550735</td>\n",
       "    </tr>\n",
       "    <tr>\n",
       "      <th>50%</th>\n",
       "      <td>920727.000000</td>\n",
       "      <td>15.432940</td>\n",
       "    </tr>\n",
       "    <tr>\n",
       "      <th>75%</th>\n",
       "      <td>939850.500000</td>\n",
       "      <td>23.892734</td>\n",
       "    </tr>\n",
       "    <tr>\n",
       "      <th>max</th>\n",
       "      <td>973286.000000</td>\n",
       "      <td>115.500000</td>\n",
       "    </tr>\n",
       "  </tbody>\n",
       "</table>\n",
       "</div>"
      ],
      "text/plain": [
       "         operator_id  avg_waiting_time\n",
       "count     276.000000        276.000000\n",
       "mean   922526.789855         19.128376\n",
       "std     24356.952593         13.285693\n",
       "min    879896.000000          1.000000\n",
       "25%    900999.000000         10.550735\n",
       "50%    920727.000000         15.432940\n",
       "75%    939850.500000         23.892734\n",
       "max    973286.000000        115.500000"
      ]
     },
     "execution_count": 95,
     "metadata": {},
     "output_type": "execute_result"
    }
   ],
   "source": [
    "# Tarifa B\n",
    "\n",
    "df_B2 = df_merged_B_in[df_merged_B_in['is_missed_call'] == False]\n",
    "df_B2 = df_B2.groupby('operator_id').agg(avg_waiting_time = ('avg_waiting_time','mean')).reset_index()\n",
    "\n",
    "df_B2.describe()"
   ]
  },
  {
   "cell_type": "markdown",
   "id": "523eb33c",
   "metadata": {},
   "source": [
    "    - Nuevamente encontramos un cambio drástico en el último 25% de los datos, reduzcamos hasta tener el porcentaje ideal."
   ]
  },
  {
   "cell_type": "code",
   "execution_count": 96,
   "id": "b206c3b5",
   "metadata": {},
   "outputs": [
    {
     "data": {
      "text/plain": [
       "array([32.63147059, 35.99204545, 62.5       ])"
      ]
     },
     "execution_count": 96,
     "metadata": {},
     "output_type": "execute_result"
    }
   ],
   "source": [
    "np.percentile(df_B2['avg_waiting_time'], [85, 90, 99])"
   ]
  },
  {
   "cell_type": "markdown",
   "id": "950a0720",
   "metadata": {},
   "source": [
    "    - Para este inciso, podría quizá quedarme con el 10% de los operadores con mayor espera en llamadas."
   ]
  },
  {
   "cell_type": "markdown",
   "id": "1fb3cd75",
   "metadata": {},
   "source": [
    "- Punto 3: Tiene pocas llamadas salientes (si debe hacerlas)."
   ]
  },
  {
   "cell_type": "code",
   "execution_count": 97,
   "id": "f3944bb8",
   "metadata": {},
   "outputs": [
    {
     "data": {
      "application/vnd.microsoft.datawrangler.viewer.v0+json": {
       "columns": [
        {
         "name": "index",
         "rawType": "object",
         "type": "string"
        },
        {
         "name": "operator_id",
         "rawType": "float64",
         "type": "float"
        },
        {
         "name": "out_calls",
         "rawType": "float64",
         "type": "float"
        }
       ],
       "conversionMethod": "pd.DataFrame",
       "ref": "14ac0018-1eff-4026-b325-4414feea334e",
       "rows": [
        [
         "count",
         "329.0",
         "329.0"
        ],
        [
         "mean",
         "922587.5015197569",
         "368.51367781155017"
        ],
        [
         "std",
         "25149.180635336983",
         "784.2653238130052"
        ],
        [
         "min",
         "879896.0",
         "1.0"
        ],
        [
         "25%",
         "900792.0",
         "11.0"
        ],
        [
         "50%",
         "920706.0",
         "76.0"
        ],
        [
         "75%",
         "941628.0",
         "311.0"
        ],
        [
         "max",
         "972412.0",
         "7856.0"
        ]
       ],
       "shape": {
        "columns": 2,
        "rows": 8
       }
      },
      "text/html": [
       "<div>\n",
       "<style scoped>\n",
       "    .dataframe tbody tr th:only-of-type {\n",
       "        vertical-align: middle;\n",
       "    }\n",
       "\n",
       "    .dataframe tbody tr th {\n",
       "        vertical-align: top;\n",
       "    }\n",
       "\n",
       "    .dataframe thead th {\n",
       "        text-align: right;\n",
       "    }\n",
       "</style>\n",
       "<table border=\"1\" class=\"dataframe\">\n",
       "  <thead>\n",
       "    <tr style=\"text-align: right;\">\n",
       "      <th></th>\n",
       "      <th>operator_id</th>\n",
       "      <th>out_calls</th>\n",
       "    </tr>\n",
       "  </thead>\n",
       "  <tbody>\n",
       "    <tr>\n",
       "      <th>count</th>\n",
       "      <td>329.000000</td>\n",
       "      <td>329.000000</td>\n",
       "    </tr>\n",
       "    <tr>\n",
       "      <th>mean</th>\n",
       "      <td>922587.501520</td>\n",
       "      <td>368.513678</td>\n",
       "    </tr>\n",
       "    <tr>\n",
       "      <th>std</th>\n",
       "      <td>25149.180635</td>\n",
       "      <td>784.265324</td>\n",
       "    </tr>\n",
       "    <tr>\n",
       "      <th>min</th>\n",
       "      <td>879896.000000</td>\n",
       "      <td>1.000000</td>\n",
       "    </tr>\n",
       "    <tr>\n",
       "      <th>25%</th>\n",
       "      <td>900792.000000</td>\n",
       "      <td>11.000000</td>\n",
       "    </tr>\n",
       "    <tr>\n",
       "      <th>50%</th>\n",
       "      <td>920706.000000</td>\n",
       "      <td>76.000000</td>\n",
       "    </tr>\n",
       "    <tr>\n",
       "      <th>75%</th>\n",
       "      <td>941628.000000</td>\n",
       "      <td>311.000000</td>\n",
       "    </tr>\n",
       "    <tr>\n",
       "      <th>max</th>\n",
       "      <td>972412.000000</td>\n",
       "      <td>7856.000000</td>\n",
       "    </tr>\n",
       "  </tbody>\n",
       "</table>\n",
       "</div>"
      ],
      "text/plain": [
       "         operator_id    out_calls\n",
       "count     329.000000   329.000000\n",
       "mean   922587.501520   368.513678\n",
       "std     25149.180635   784.265324\n",
       "min    879896.000000     1.000000\n",
       "25%    900792.000000    11.000000\n",
       "50%    920706.000000    76.000000\n",
       "75%    941628.000000   311.000000\n",
       "max    972412.000000  7856.000000"
      ]
     },
     "execution_count": 97,
     "metadata": {},
     "output_type": "execute_result"
    }
   ],
   "source": [
    "# Tarifa B\n",
    "\n",
    "df_B3 = df_merged_B[df_merged_B['direction'] == \"out\"]\n",
    "\n",
    "df_B3 = df_B3.groupby('operator_id').agg(out_calls = ('calls_count', 'sum')).reset_index()\n",
    "\n",
    "df_B3.describe()"
   ]
  },
  {
   "cell_type": "markdown",
   "id": "a0ec474b",
   "metadata": {},
   "source": [
    "    - A partir de la mitad de los datos encontramos variaciones altas, veamos más a detalle."
   ]
  },
  {
   "cell_type": "code",
   "execution_count": 98,
   "id": "c79e870b",
   "metadata": {},
   "outputs": [
    {
     "data": {
      "text/plain": [
       "array([ 33. , 100.8, 180.6])"
      ]
     },
     "execution_count": 98,
     "metadata": {},
     "output_type": "execute_result"
    }
   ],
   "source": [
    "np.percentile(df_B3['out_calls'], [40, 55, 65])"
   ]
  },
  {
   "cell_type": "markdown",
   "id": "a5f922ff",
   "metadata": {},
   "source": [
    "    - Creo que el 55% de los operadores con menor cantidad de llamadas de salida podría funcionar para esta tarifa."
   ]
  },
  {
   "cell_type": "markdown",
   "id": "95e67b24",
   "metadata": {},
   "source": [
    "### Tarifa C"
   ]
  },
  {
   "cell_type": "markdown",
   "id": "bd1973fc",
   "metadata": {},
   "source": [
    "- Punto 1: - Tiene muchas llamadas entrantes perdidas (internas y externas)."
   ]
  },
  {
   "cell_type": "code",
   "execution_count": 99,
   "id": "31f583ec",
   "metadata": {},
   "outputs": [
    {
     "data": {
      "application/vnd.microsoft.datawrangler.viewer.v0+json": {
       "columns": [
        {
         "name": "index",
         "rawType": "object",
         "type": "string"
        },
        {
         "name": "operator_id",
         "rawType": "float64",
         "type": "float"
        },
        {
         "name": "total_calls",
         "rawType": "float64",
         "type": "float"
        },
        {
         "name": "missed",
         "rawType": "float64",
         "type": "float"
        },
        {
         "name": "prop_missed",
         "rawType": "float64",
         "type": "float"
        }
       ],
       "conversionMethod": "pd.DataFrame",
       "ref": "a4acedfb-26e3-44e4-aca3-1062f5d653e2",
       "rows": [
        [
         "count",
         "292.0",
         "292.0",
         "292.0",
         "292.0"
        ],
        [
         "mean",
         "922464.5684931506",
         "127.45890410958904",
         "0.6815068493150684",
         "0.015476027397260275"
        ],
        [
         "std",
         "22328.886836859994",
         "339.534594074544",
         "1.561323934840618",
         "0.07109818080214018"
        ],
        [
         "min",
         "882476.0",
         "1.0",
         "0.0",
         "0.0"
        ],
        [
         "25%",
         "904015.5",
         "4.0",
         "0.0",
         "0.0"
        ],
        [
         "50%",
         "921205.0",
         "19.0",
         "0.0",
         "0.0"
        ],
        [
         "75%",
         "939687.5",
         "81.0",
         "1.0",
         "0.005"
        ],
        [
         "max",
         "972460.0",
         "2632.0",
         "11.0",
         "1.0"
        ]
       ],
       "shape": {
        "columns": 4,
        "rows": 8
       }
      },
      "text/html": [
       "<div>\n",
       "<style scoped>\n",
       "    .dataframe tbody tr th:only-of-type {\n",
       "        vertical-align: middle;\n",
       "    }\n",
       "\n",
       "    .dataframe tbody tr th {\n",
       "        vertical-align: top;\n",
       "    }\n",
       "\n",
       "    .dataframe thead th {\n",
       "        text-align: right;\n",
       "    }\n",
       "</style>\n",
       "<table border=\"1\" class=\"dataframe\">\n",
       "  <thead>\n",
       "    <tr style=\"text-align: right;\">\n",
       "      <th></th>\n",
       "      <th>operator_id</th>\n",
       "      <th>total_calls</th>\n",
       "      <th>missed</th>\n",
       "      <th>prop_missed</th>\n",
       "    </tr>\n",
       "  </thead>\n",
       "  <tbody>\n",
       "    <tr>\n",
       "      <th>count</th>\n",
       "      <td>292.000000</td>\n",
       "      <td>292.000000</td>\n",
       "      <td>292.000000</td>\n",
       "      <td>292.000000</td>\n",
       "    </tr>\n",
       "    <tr>\n",
       "      <th>mean</th>\n",
       "      <td>922464.568493</td>\n",
       "      <td>127.458904</td>\n",
       "      <td>0.681507</td>\n",
       "      <td>0.015476</td>\n",
       "    </tr>\n",
       "    <tr>\n",
       "      <th>std</th>\n",
       "      <td>22328.886837</td>\n",
       "      <td>339.534594</td>\n",
       "      <td>1.561324</td>\n",
       "      <td>0.071098</td>\n",
       "    </tr>\n",
       "    <tr>\n",
       "      <th>min</th>\n",
       "      <td>882476.000000</td>\n",
       "      <td>1.000000</td>\n",
       "      <td>0.000000</td>\n",
       "      <td>0.000000</td>\n",
       "    </tr>\n",
       "    <tr>\n",
       "      <th>25%</th>\n",
       "      <td>904015.500000</td>\n",
       "      <td>4.000000</td>\n",
       "      <td>0.000000</td>\n",
       "      <td>0.000000</td>\n",
       "    </tr>\n",
       "    <tr>\n",
       "      <th>50%</th>\n",
       "      <td>921205.000000</td>\n",
       "      <td>19.000000</td>\n",
       "      <td>0.000000</td>\n",
       "      <td>0.000000</td>\n",
       "    </tr>\n",
       "    <tr>\n",
       "      <th>75%</th>\n",
       "      <td>939687.500000</td>\n",
       "      <td>81.000000</td>\n",
       "      <td>1.000000</td>\n",
       "      <td>0.005000</td>\n",
       "    </tr>\n",
       "    <tr>\n",
       "      <th>max</th>\n",
       "      <td>972460.000000</td>\n",
       "      <td>2632.000000</td>\n",
       "      <td>11.000000</td>\n",
       "      <td>1.000000</td>\n",
       "    </tr>\n",
       "  </tbody>\n",
       "</table>\n",
       "</div>"
      ],
      "text/plain": [
       "         operator_id  total_calls      missed  prop_missed\n",
       "count     292.000000   292.000000  292.000000   292.000000\n",
       "mean   922464.568493   127.458904    0.681507     0.015476\n",
       "std     22328.886837   339.534594    1.561324     0.071098\n",
       "min    882476.000000     1.000000    0.000000     0.000000\n",
       "25%    904015.500000     4.000000    0.000000     0.000000\n",
       "50%    921205.000000    19.000000    0.000000     0.000000\n",
       "75%    939687.500000    81.000000    1.000000     0.005000\n",
       "max    972460.000000  2632.000000   11.000000     1.000000"
      ]
     },
     "execution_count": 99,
     "metadata": {},
     "output_type": "execute_result"
    }
   ],
   "source": [
    "# Tarifa C\n",
    "\n",
    "df_merged_C_in = df_merged_C[df_merged_C['direction'] == \"in\"]\n",
    "df_C1 = df_merged_C_in.groupby('operator_id').agg(total_calls = ('calls_count','sum'), missed = ('is_missed_call','sum')).reset_index()\n",
    "df_C1['prop_missed'] = (df_C1['missed'] / df_C1['total_calls']).round(3)\n",
    "\n",
    "df_C1.describe()"
   ]
  },
  {
   "cell_type": "markdown",
   "id": "c94d08ee",
   "metadata": {},
   "source": [
    "    - Nuevamente encontramos poca variación en los valores del top 25% del dataset."
   ]
  },
  {
   "cell_type": "code",
   "execution_count": 100,
   "id": "b2ced89f",
   "metadata": {},
   "outputs": [
    {
     "data": {
      "text/plain": [
       "array([0.0068, 0.03  , 0.0659])"
      ]
     },
     "execution_count": 100,
     "metadata": {},
     "output_type": "execute_result"
    }
   ],
   "source": [
    "np.percentile(df_C1['prop_missed'], [80, 90, 95])"
   ]
  },
  {
   "cell_type": "markdown",
   "id": "0ed1f8fa",
   "metadata": {},
   "source": [
    "    - Me quedaré con el 10% de operadores para este punto."
   ]
  },
  {
   "cell_type": "markdown",
   "id": "9e4a354c",
   "metadata": {},
   "source": [
    "- Punto 2: Tiene mucho tiempo de espera en llamadas entrantes."
   ]
  },
  {
   "cell_type": "code",
   "execution_count": 101,
   "id": "8db20811",
   "metadata": {},
   "outputs": [
    {
     "data": {
      "application/vnd.microsoft.datawrangler.viewer.v0+json": {
       "columns": [
        {
         "name": "index",
         "rawType": "object",
         "type": "string"
        },
        {
         "name": "operator_id",
         "rawType": "float64",
         "type": "float"
        },
        {
         "name": "avg_waiting_time",
         "rawType": "float64",
         "type": "float"
        }
       ],
       "conversionMethod": "pd.DataFrame",
       "ref": "846e5c4c-170a-4e19-b9f9-f39d2ecf18f3",
       "rows": [
        [
         "count",
         "291.0",
         "291.0"
        ],
        [
         "mean",
         "922374.2199312715",
         "16.55193575238919"
        ],
        [
         "std",
         "22313.821969873014",
         "9.985939957236848"
        ],
        [
         "min",
         "882476.0",
         "0.75"
        ],
        [
         "25%",
         "904015.0",
         "9.261908831908832"
        ],
        [
         "50%",
         "921104.0",
         "14.75"
        ],
        [
         "75%",
         "939448.0",
         "21.669754098360656"
        ],
        [
         "max",
         "972460.0",
         "56.333333333333336"
        ]
       ],
       "shape": {
        "columns": 2,
        "rows": 8
       }
      },
      "text/html": [
       "<div>\n",
       "<style scoped>\n",
       "    .dataframe tbody tr th:only-of-type {\n",
       "        vertical-align: middle;\n",
       "    }\n",
       "\n",
       "    .dataframe tbody tr th {\n",
       "        vertical-align: top;\n",
       "    }\n",
       "\n",
       "    .dataframe thead th {\n",
       "        text-align: right;\n",
       "    }\n",
       "</style>\n",
       "<table border=\"1\" class=\"dataframe\">\n",
       "  <thead>\n",
       "    <tr style=\"text-align: right;\">\n",
       "      <th></th>\n",
       "      <th>operator_id</th>\n",
       "      <th>avg_waiting_time</th>\n",
       "    </tr>\n",
       "  </thead>\n",
       "  <tbody>\n",
       "    <tr>\n",
       "      <th>count</th>\n",
       "      <td>291.000000</td>\n",
       "      <td>291.000000</td>\n",
       "    </tr>\n",
       "    <tr>\n",
       "      <th>mean</th>\n",
       "      <td>922374.219931</td>\n",
       "      <td>16.551936</td>\n",
       "    </tr>\n",
       "    <tr>\n",
       "      <th>std</th>\n",
       "      <td>22313.821970</td>\n",
       "      <td>9.985940</td>\n",
       "    </tr>\n",
       "    <tr>\n",
       "      <th>min</th>\n",
       "      <td>882476.000000</td>\n",
       "      <td>0.750000</td>\n",
       "    </tr>\n",
       "    <tr>\n",
       "      <th>25%</th>\n",
       "      <td>904015.000000</td>\n",
       "      <td>9.261909</td>\n",
       "    </tr>\n",
       "    <tr>\n",
       "      <th>50%</th>\n",
       "      <td>921104.000000</td>\n",
       "      <td>14.750000</td>\n",
       "    </tr>\n",
       "    <tr>\n",
       "      <th>75%</th>\n",
       "      <td>939448.000000</td>\n",
       "      <td>21.669754</td>\n",
       "    </tr>\n",
       "    <tr>\n",
       "      <th>max</th>\n",
       "      <td>972460.000000</td>\n",
       "      <td>56.333333</td>\n",
       "    </tr>\n",
       "  </tbody>\n",
       "</table>\n",
       "</div>"
      ],
      "text/plain": [
       "         operator_id  avg_waiting_time\n",
       "count     291.000000        291.000000\n",
       "mean   922374.219931         16.551936\n",
       "std     22313.821970          9.985940\n",
       "min    882476.000000          0.750000\n",
       "25%    904015.000000          9.261909\n",
       "50%    921104.000000         14.750000\n",
       "75%    939448.000000         21.669754\n",
       "max    972460.000000         56.333333"
      ]
     },
     "execution_count": 101,
     "metadata": {},
     "output_type": "execute_result"
    }
   ],
   "source": [
    "# Tarifa C\n",
    "\n",
    "df_C2 = df_merged_C_in[df_merged_C_in['is_missed_call'] == False]\n",
    "df_C2 = df_C2.groupby('operator_id').agg(avg_waiting_time = ('avg_waiting_time','mean')).reset_index()\n",
    "\n",
    "df_C2.describe()"
   ]
  },
  {
   "cell_type": "markdown",
   "id": "6e657d71",
   "metadata": {},
   "source": [
    "    - Parecería ser que aquí no hay tanto tiempo de espera en las llamadas entrantes."
   ]
  },
  {
   "cell_type": "code",
   "execution_count": 102,
   "id": "74a8e11c",
   "metadata": {},
   "outputs": [
    {
     "data": {
      "text/plain": [
       "array([23.53125   , 27.76676471, 38.48315789])"
      ]
     },
     "execution_count": 102,
     "metadata": {},
     "output_type": "execute_result"
    }
   ],
   "source": [
    "np.percentile(df_C2['avg_waiting_time'], [80, 90, 95])"
   ]
  },
  {
   "cell_type": "markdown",
   "id": "ae2d1b1b",
   "metadata": {},
   "source": [
    "    - Considerando que el promedio está alrededor de 16, me quedaré únicamente con el 10% de los datos, aunque este punto en particular me parece poco decisivo para los operadores ineficientes."
   ]
  },
  {
   "cell_type": "markdown",
   "id": "2c2b0a27",
   "metadata": {},
   "source": [
    "- Punto 3: Tiene pocas llamadas salientes (si debe hacerlas)."
   ]
  },
  {
   "cell_type": "code",
   "execution_count": 103,
   "id": "c2c3c10a",
   "metadata": {},
   "outputs": [
    {
     "data": {
      "application/vnd.microsoft.datawrangler.viewer.v0+json": {
       "columns": [
        {
         "name": "index",
         "rawType": "object",
         "type": "string"
        },
        {
         "name": "operator_id",
         "rawType": "float64",
         "type": "float"
        },
        {
         "name": "out_calls",
         "rawType": "float64",
         "type": "float"
        }
       ],
       "conversionMethod": "pd.DataFrame",
       "ref": "8a07c3a7-cb52-4fcc-a22e-bfea5c6eef23",
       "rows": [
        [
         "count",
         "275.0",
         "275.0"
        ],
        [
         "mean",
         "924702.8945454545",
         "592.2145454545455"
        ],
        [
         "std",
         "23934.388054885203",
         "1811.385434143858"
        ],
        [
         "min",
         "882478.0",
         "1.0"
        ],
        [
         "25%",
         "903315.0",
         "10.0"
        ],
        [
         "50%",
         "922474.0",
         "68.0"
        ],
        [
         "75%",
         "944647.0",
         "489.5"
        ],
        [
         "max",
         "973120.0",
         "24572.0"
        ]
       ],
       "shape": {
        "columns": 2,
        "rows": 8
       }
      },
      "text/html": [
       "<div>\n",
       "<style scoped>\n",
       "    .dataframe tbody tr th:only-of-type {\n",
       "        vertical-align: middle;\n",
       "    }\n",
       "\n",
       "    .dataframe tbody tr th {\n",
       "        vertical-align: top;\n",
       "    }\n",
       "\n",
       "    .dataframe thead th {\n",
       "        text-align: right;\n",
       "    }\n",
       "</style>\n",
       "<table border=\"1\" class=\"dataframe\">\n",
       "  <thead>\n",
       "    <tr style=\"text-align: right;\">\n",
       "      <th></th>\n",
       "      <th>operator_id</th>\n",
       "      <th>out_calls</th>\n",
       "    </tr>\n",
       "  </thead>\n",
       "  <tbody>\n",
       "    <tr>\n",
       "      <th>count</th>\n",
       "      <td>275.000000</td>\n",
       "      <td>275.000000</td>\n",
       "    </tr>\n",
       "    <tr>\n",
       "      <th>mean</th>\n",
       "      <td>924702.894545</td>\n",
       "      <td>592.214545</td>\n",
       "    </tr>\n",
       "    <tr>\n",
       "      <th>std</th>\n",
       "      <td>23934.388055</td>\n",
       "      <td>1811.385434</td>\n",
       "    </tr>\n",
       "    <tr>\n",
       "      <th>min</th>\n",
       "      <td>882478.000000</td>\n",
       "      <td>1.000000</td>\n",
       "    </tr>\n",
       "    <tr>\n",
       "      <th>25%</th>\n",
       "      <td>903315.000000</td>\n",
       "      <td>10.000000</td>\n",
       "    </tr>\n",
       "    <tr>\n",
       "      <th>50%</th>\n",
       "      <td>922474.000000</td>\n",
       "      <td>68.000000</td>\n",
       "    </tr>\n",
       "    <tr>\n",
       "      <th>75%</th>\n",
       "      <td>944647.000000</td>\n",
       "      <td>489.500000</td>\n",
       "    </tr>\n",
       "    <tr>\n",
       "      <th>max</th>\n",
       "      <td>973120.000000</td>\n",
       "      <td>24572.000000</td>\n",
       "    </tr>\n",
       "  </tbody>\n",
       "</table>\n",
       "</div>"
      ],
      "text/plain": [
       "         operator_id     out_calls\n",
       "count     275.000000    275.000000\n",
       "mean   924702.894545    592.214545\n",
       "std     23934.388055   1811.385434\n",
       "min    882478.000000      1.000000\n",
       "25%    903315.000000     10.000000\n",
       "50%    922474.000000     68.000000\n",
       "75%    944647.000000    489.500000\n",
       "max    973120.000000  24572.000000"
      ]
     },
     "execution_count": 103,
     "metadata": {},
     "output_type": "execute_result"
    }
   ],
   "source": [
    "# Tarifa C\n",
    "\n",
    "df_C3 = df_merged_C[df_merged_C['direction'] == \"out\"]\n",
    "\n",
    "df_C3 = df_C3.groupby('operator_id').agg(out_calls = ('calls_count', 'sum')).reset_index()\n",
    "\n",
    "df_C3.describe()"
   ]
  },
  {
   "cell_type": "code",
   "execution_count": 104,
   "id": "9ef1cb02",
   "metadata": {},
   "outputs": [
    {
     "data": {
      "text/plain": [
       "array([191.4, 352.8, 736.4])"
      ]
     },
     "execution_count": 104,
     "metadata": {},
     "output_type": "execute_result"
    }
   ],
   "source": [
    "np.percentile(df_C3['out_calls'], [60, 70, 80])"
   ]
  },
  {
   "cell_type": "markdown",
   "id": "f091268f",
   "metadata": {},
   "source": [
    "    - Para este inciso, nos quedaremos con el 60% de los datos de los operadores con menor número de llamadas salientes."
   ]
  },
  {
   "cell_type": "markdown",
   "id": "106df3d4",
   "metadata": {},
   "source": [
    "**RESUMEN DE PORCENTAJES POR TARIFA:**\n",
    "\n",
    "- Tarifa A:\n",
    "    - Punto 1: 20% del top\n",
    "    - Punto 2: 25% del top\n",
    "    - Punto 3: 40% del bot\n",
    " - Tarifa B:\n",
    "    - Punto 1: 15% del top\n",
    "    - Punto 2: 10% del top\n",
    "    - Punto 3: 55% del bot\n",
    "- Tarifa C:\n",
    "    - Punto 1: 10% del top\n",
    "    - Punto 2: 10% del top\n",
    "    - Punto 3: 60% del bot"
   ]
  },
  {
   "cell_type": "markdown",
   "id": "f606ab9e",
   "metadata": {},
   "source": [
    "### Operadores sospechosos"
   ]
  },
  {
   "cell_type": "code",
   "execution_count": 105,
   "id": "f916e630",
   "metadata": {},
   "outputs": [
    {
     "name": "stdout",
     "output_type": "stream",
     "text": [
      "Operadores sospechosos para la tarifa A: [924928, 906410]\n",
      "Operadores sospechosos para la tarifa B: [920902]\n",
      "Operadores sospechosos para la tarifa C: [888406]\n"
     ]
    }
   ],
   "source": [
    "# Función para que nos entreguen los operadores sospechosos según su desempeño y nuestro umbral\n",
    "\n",
    "suspicious = []\n",
    "\n",
    "def suspiciousOperator (df1, df2, df3, percentile_list):\n",
    "    \n",
    "    top_perdidas = df1[df1['prop_missed'] >= df1['prop_missed'].quantile(1-percentile_list[0])].reset_index()\n",
    "    top_espera = df2[df2['avg_waiting_time'] >= df2['avg_waiting_time'].quantile(1-percentile_list[1])].reset_index()\n",
    "\n",
    "    bottom_salientes = df3[df3['out_calls'] <= df3['out_calls'].quantile(percentile_list[2])].reset_index()\n",
    "\n",
    "    ops_perdidas = set(top_perdidas['operator_id'])\n",
    "    ops_espera = set(top_espera['operator_id'])\n",
    "    ops_salientes = set(bottom_salientes['operator_id'])\n",
    "\n",
    "    ops_sospechosos = list(ops_perdidas & ops_espera & ops_salientes)\n",
    "\n",
    "    suspicious.append(ops_sospechosos)\n",
    "\n",
    "    return ops_sospechosos\n",
    "\n",
    "percentileA = [0.2, 0.25, 0.4]\n",
    "percentileB = [0.15, 0.1, 0.55]\n",
    "percentileC = [0.1, 0.1, 0.6]\n",
    "\n",
    "print('Operadores sospechosos para la tarifa A:', suspiciousOperator(df_A1,df_A2,df_A3, percentileA))\n",
    "print('Operadores sospechosos para la tarifa B:', suspiciousOperator(df_B1,df_B2,df_B3, percentileB))\n",
    "print('Operadores sospechosos para la tarifa C:', suspiciousOperator(df_C1,df_C2,df_C3, percentileC))"
   ]
  },
  {
   "cell_type": "code",
   "execution_count": 106,
   "id": "387d9279",
   "metadata": {},
   "outputs": [],
   "source": [
    "# Juntamos todos los operadores en una lista y luego hacemos un dataframe de solamente ellos.\n",
    "\n",
    "suspicious_list = sum(suspicious, [])\n",
    "\n",
    "df_suspicious = df_merged[df_merged['operator_id'].isin(suspicious_list)]"
   ]
  },
  {
   "cell_type": "code",
   "execution_count": 107,
   "id": "1e0724ba",
   "metadata": {},
   "outputs": [
    {
     "data": {
      "application/vnd.microsoft.datawrangler.viewer.v0+json": {
       "columns": [
        {
         "name": "index",
         "rawType": "int64",
         "type": "integer"
        },
        {
         "name": "operator_id",
         "rawType": "int64",
         "type": "integer"
        },
        {
         "name": "prop_miss",
         "rawType": "float64",
         "type": "float"
        },
        {
         "name": "avg_waiting_time",
         "rawType": "float64",
         "type": "float"
        },
        {
         "name": "out_calls",
         "rawType": "int64",
         "type": "integer"
        },
        {
         "name": "total_calls",
         "rawType": "int64",
         "type": "integer"
        }
       ],
       "conversionMethod": "pd.DataFrame",
       "ref": "31a1e3e6-5972-47c9-ab38-d56d5dabbb56",
       "rows": [
        [
         "0",
         "888406",
         "0.11",
         "32.0",
         "6",
         "15"
        ],
        [
         "1",
         "906410",
         "0.02",
         "25.400666666666666",
         "21",
         "265"
        ],
        [
         "2",
         "920902",
         "0.02",
         "48.178620689655176",
         "21",
         "80"
        ],
        [
         "3",
         "924928",
         "0.03",
         "42.8675",
         "59",
         "92"
        ]
       ],
       "shape": {
        "columns": 5,
        "rows": 4
       }
      },
      "text/html": [
       "<div>\n",
       "<style scoped>\n",
       "    .dataframe tbody tr th:only-of-type {\n",
       "        vertical-align: middle;\n",
       "    }\n",
       "\n",
       "    .dataframe tbody tr th {\n",
       "        vertical-align: top;\n",
       "    }\n",
       "\n",
       "    .dataframe thead th {\n",
       "        text-align: right;\n",
       "    }\n",
       "</style>\n",
       "<table border=\"1\" class=\"dataframe\">\n",
       "  <thead>\n",
       "    <tr style=\"text-align: right;\">\n",
       "      <th></th>\n",
       "      <th>operator_id</th>\n",
       "      <th>prop_miss</th>\n",
       "      <th>avg_waiting_time</th>\n",
       "      <th>out_calls</th>\n",
       "      <th>total_calls</th>\n",
       "    </tr>\n",
       "  </thead>\n",
       "  <tbody>\n",
       "    <tr>\n",
       "      <th>0</th>\n",
       "      <td>888406</td>\n",
       "      <td>0.11</td>\n",
       "      <td>32.000000</td>\n",
       "      <td>6</td>\n",
       "      <td>15</td>\n",
       "    </tr>\n",
       "    <tr>\n",
       "      <th>1</th>\n",
       "      <td>906410</td>\n",
       "      <td>0.02</td>\n",
       "      <td>25.400667</td>\n",
       "      <td>21</td>\n",
       "      <td>265</td>\n",
       "    </tr>\n",
       "    <tr>\n",
       "      <th>2</th>\n",
       "      <td>920902</td>\n",
       "      <td>0.02</td>\n",
       "      <td>48.178621</td>\n",
       "      <td>21</td>\n",
       "      <td>80</td>\n",
       "    </tr>\n",
       "    <tr>\n",
       "      <th>3</th>\n",
       "      <td>924928</td>\n",
       "      <td>0.03</td>\n",
       "      <td>42.867500</td>\n",
       "      <td>59</td>\n",
       "      <td>92</td>\n",
       "    </tr>\n",
       "  </tbody>\n",
       "</table>\n",
       "</div>"
      ],
      "text/plain": [
       "   operator_id  prop_miss  avg_waiting_time  out_calls  total_calls\n",
       "0       888406       0.11         32.000000          6           15\n",
       "1       906410       0.02         25.400667         21          265\n",
       "2       920902       0.02         48.178621         21           80\n",
       "3       924928       0.03         42.867500         59           92"
      ]
     },
     "execution_count": 107,
     "metadata": {},
     "output_type": "execute_result"
    }
   ],
   "source": [
    "# Punto 1: Llamadas entrantes perdidas (internas y externas)\n",
    "\n",
    "df_sus_p1 = df_suspicious[df_suspicious['direction'] == 'in']\n",
    "df_sus_p1 = df_sus_p1.groupby('operator_id').agg(total_calls = ('calls_count','sum'), missed = ('is_missed_call','sum'))\n",
    "df_sus_p1['prop_miss'] = (df_sus_p1['missed'] / df_sus_p1['total_calls']).round(2)\n",
    "df_sus_p1 = df_sus_p1.drop(columns=['total_calls', 'missed'])\n",
    "\n",
    "# Punto 2: Tiene mucho tiempo de espera en llamadas entrantes\n",
    "\n",
    "df_sus_p2 = df_suspicious[(df_suspicious['is_missed_call'] == False) & (df_suspicious['direction'] == 'in')]\n",
    "df_sus_p2 = df_sus_p2.groupby('operator_id').agg(avg_waiting_time = ('avg_waiting_time','mean')).reset_index()\n",
    "\n",
    "# Punto 3: Tiene pocas llamadas salientes\n",
    "\n",
    "df_sus_p3 = df_suspicious[df_suspicious['direction'] == \"out\"]\n",
    "df_sus_p3 = df_sus_p3.groupby('operator_id').agg(out_calls = ('calls_count', 'sum')).reset_index()\n",
    "\n",
    "# Total de llamadas\n",
    "\n",
    "total_calls_sus = df_suspicious.groupby('operator_id').agg(total_calls = ('calls_count','sum'))\n",
    "\n",
    "# Merge de todos los dataframes\n",
    "\n",
    "df_sus_report = df_sus_p1.merge(df_sus_p2, on='operator_id').merge(df_sus_p3, on='operator_id').merge(total_calls_sus, on='operator_id')\n",
    "\n",
    "df_sus_report\n"
   ]
  },
  {
   "cell_type": "markdown",
   "id": "2d1f95b7",
   "metadata": {},
   "source": [
    "### Visualizaciones de operadores sospechosos"
   ]
  },
  {
   "cell_type": "markdown",
   "id": "350f753a",
   "metadata": {},
   "source": [
    "- Proporción de llamadas entrantes vs salientes"
   ]
  },
  {
   "cell_type": "code",
   "execution_count": 108,
   "id": "297aca3b",
   "metadata": {},
   "outputs": [
    {
     "data": {
      "image/png": "[encoded data removed]",
      "text/plain": [
       "<Figure size 640x480 with 1 Axes>"
      ]
     },
     "metadata": {},
     "output_type": "display_data"
    }
   ],
   "source": [
    "# Comparacion de llamadas entrantes vs salientes\n",
    "\n",
    "bar_inout_sus = df_suspicious.groupby('direction').agg(no_calls = ('calls_count', 'sum'))\n",
    "\n",
    "bar_inout_sus.plot(kind='bar', rot=0, legend=False, color='orange')\n",
    "\n",
    "for idx, value in enumerate(bar_inout_sus['no_calls']):\n",
    "    plt.text(idx, value + 0.5, str(value), ha='center', va='bottom')\n",
    "\n",
    "plt.ylabel('Number of calls')\n",
    "plt.xlabel('Direction of the calls')\n",
    "plt.title('Amount of calls per direction')\n",
    "plt.ylim(0,800)\n",
    "plt.tight_layout()\n",
    "plt.grid(linestyle='--')\n",
    "plt.show()"
   ]
  },
  {
   "cell_type": "code",
   "execution_count": 109,
   "id": "6664856b",
   "metadata": {},
   "outputs": [
    {
     "name": "stdout",
     "output_type": "stream",
     "text": [
      "Proporción entrantes vs salientes (operadores sospechosos): 3.2242990654205608\n"
     ]
    }
   ],
   "source": [
    "# Proporcion de llamadas entrantes vs salientes\n",
    "\n",
    "in_sus = df_suspicious.query('direction == \"in\"')['calls_count'].sum() \n",
    "out_sus = df_suspicious.query('direction == \"out\"')['calls_count'].sum()\n",
    "\n",
    "prop_sus = in_sus / out_sus\n",
    "\n",
    "\n",
    "print(\"Proporción entrantes vs salientes (operadores sospechosos):\", prop_sus)"
   ]
  },
  {
   "cell_type": "markdown",
   "id": "16ecc575",
   "metadata": {},
   "source": [
    "    - En nuestras métricas anteriores, la proporción de llamadas entrantes vs salientes iban del 40% al 50%, mientras que aquí suben a incluso más del 320%."
   ]
  },
  {
   "cell_type": "markdown",
   "id": "8d8a9e43",
   "metadata": {},
   "source": [
    "- Promedio de llamadas (cualquiera) a lo largo del tiempo"
   ]
  },
  {
   "cell_type": "code",
   "execution_count": 110,
   "id": "71e6252a",
   "metadata": {},
   "outputs": [
    {
     "data": {
      "image/png": "[encoded data removed]",
      "text/plain": [
       "<Figure size 1000x600 with 1 Axes>"
      ]
     },
     "metadata": {},
     "output_type": "display_data"
    }
   ],
   "source": [
    "# Rendimiento de llamadas (cualquiera) a lo largo del tiempo\n",
    "\n",
    "df_suspicious.groupby(['month','day']).agg(avg_no_calls = ('calls_count','mean')).plot(kind='line', legend=False, figsize=[10,6])\n",
    "\n",
    "plt.ylabel('Call count average')\n",
    "plt.xlabel('Month & Day')\n",
    "plt.title('Average amount of calls through time')\n",
    "plt.grid(linestyle='--')\n",
    "plt.show()"
   ]
  },
  {
   "cell_type": "markdown",
   "id": "d39a36cd",
   "metadata": {},
   "source": [
    "    - Que entre tantos operadores, el promedio de llamadas diarias no pase de 8; parece alarmante."
   ]
  },
  {
   "cell_type": "markdown",
   "id": "121d2823",
   "metadata": {},
   "source": [
    "- Llamadas perdidas para operadores sospechosos"
   ]
  },
  {
   "cell_type": "code",
   "execution_count": 111,
   "id": "93da5259",
   "metadata": {},
   "outputs": [
    {
     "name": "stdout",
     "output_type": "stream",
     "text": [
      "Proporción de llamadas perdidas: 0.07\n"
     ]
    }
   ],
   "source": [
    "# Proporcion de llamadas perdidas\n",
    "\n",
    "sus_missed_calls = df_suspicious['is_missed_call'].sum()\n",
    "sus_total_calls = df_suspicious['calls_count'].sum()\n",
    "sus_prop_calls = (sus_missed_calls / sus_total_calls).round(2)\n",
    "\n",
    "print(\"Proporción de llamadas perdidas:\",sus_prop_calls)"
   ]
  },
  {
   "cell_type": "code",
   "execution_count": 112,
   "id": "6d2605d4",
   "metadata": {},
   "outputs": [
    {
     "data": {
      "image/png": "[encoded data removed]",
      "text/plain": [
       "<Figure size 640x480 with 1 Axes>"
      ]
     },
     "metadata": {},
     "output_type": "display_data"
    }
   ],
   "source": [
    "labels = ['Missed','Not missed']\n",
    "values = [sus_missed_calls, sus_total_calls - sus_missed_calls]\n",
    "\n",
    "plt.bar(labels, values, color=['red','green'])\n",
    "\n",
    "plt.title('Missed calls for suspicious ops')\n",
    "plt.ylabel('Amount of calls')\n",
    "\n",
    "for i, v in enumerate(values):\n",
    "    plt.text(i, v + 5, str(v), ha='center')\n",
    "\n",
    "plt.ylim([0,450])\n",
    "plt.show()"
   ]
  },
  {
   "cell_type": "markdown",
   "id": "507bd4fb",
   "metadata": {},
   "source": [
    "    - A pesar de ser pocos operadores, encontramos que ya superan en proporción de llamadas perdidas vs llamadas totales a las métricas de los 3 grupos tarifarios con un 7% de llamadas perdidas."
   ]
  },
  {
   "cell_type": "markdown",
   "id": "8c6d4313",
   "metadata": {},
   "source": [
    "- Proporción de llamadas internas de operadores sospechosos"
   ]
  },
  {
   "cell_type": "code",
   "execution_count": 113,
   "id": "ceaf49e2",
   "metadata": {},
   "outputs": [
    {
     "data": {
      "image/png": "[encoded data removed]",
      "text/plain": [
       "<Figure size 640x480 with 1 Axes>"
      ]
     },
     "metadata": {},
     "output_type": "display_data"
    }
   ],
   "source": [
    "sus_internal_calls = df_suspicious['internal'].sum()\n",
    "\n",
    "labels2 = ['Internal','External']\n",
    "values2 = [sus_internal_calls, sus_total_calls - sus_internal_calls]\n",
    "\n",
    "plt.bar(labels2, values2, color=['red','green'])\n",
    "\n",
    "plt.title('Internal calls for suspicious ops')\n",
    "plt.ylabel('Amount of calls')\n",
    "\n",
    "for i, v in enumerate(values2):\n",
    "    plt.text(i, v + 5, str(v), ha='center')\n",
    "\n",
    "plt.ylim([0,450])\n",
    "plt.show()"
   ]
  },
  {
   "cell_type": "code",
   "execution_count": 114,
   "id": "078b66da",
   "metadata": {},
   "outputs": [
    {
     "name": "stdout",
     "output_type": "stream",
     "text": [
      "Proporción de llamadas internas vs externas: 0.05530973451327434\n"
     ]
    }
   ],
   "source": [
    "sus_internal_prop = sus_internal_calls / sus_total_calls\n",
    "\n",
    "print(f'Proporción de llamadas internas vs externas: {sus_internal_prop}')"
   ]
  },
  {
   "cell_type": "markdown",
   "id": "2286793b",
   "metadata": {},
   "source": [
    "    - A pesar de ser pocos operadores, rápidamente con las gráficas podemos ver que tienen una proporción de llamadas internas mayor que el resto de tarifas."
   ]
  },
  {
   "cell_type": "markdown",
   "id": "030b0c9b",
   "metadata": {},
   "source": [
    "- Promedio de tiempo de espera en las llamadas."
   ]
  },
  {
   "cell_type": "code",
   "execution_count": 126,
   "id": "2978ab89",
   "metadata": {},
   "outputs": [
    {
     "data": {
      "image/png": "[encoded data removed]",
      "text/plain": [
       "<Figure size 640x480 with 1 Axes>"
      ]
     },
     "metadata": {},
     "output_type": "display_data"
    }
   ],
   "source": [
    "df_suspicious_waiting = df_suspicious.groupby('tariff_plan').agg(avg_waiting = ('avg_waiting_time','mean'))\n",
    "\n",
    "df_suspicious_waiting.plot(kind='bar', rot=0, xlabel='Tariff Plan', ylabel='Average waiting time', title='Average waiting time per tariff (suspicious ops)', legend=False)\n",
    "\n",
    "plt.show()"
   ]
  },
  {
   "cell_type": "code",
   "execution_count": 128,
   "id": "a8db5b82",
   "metadata": {},
   "outputs": [
    {
     "data": {
      "image/png": "[encoded data removed]",
      "text/plain": [
       "<Figure size 640x480 with 1 Axes>"
      ]
     },
     "metadata": {},
     "output_type": "display_data"
    }
   ],
   "source": [
    "# Mismo gráfico pero con datos de los demás operadores (no sospechosos)\n",
    "\n",
    "df_not_suspicious = df_merged[~df_merged['operator_id'].isin(suspicious_list)]\n",
    "\n",
    "df_not_suspicious.groupby('tariff_plan').agg(avg_waiting = ('avg_waiting_time','mean')).plot(kind='bar', rot=0, xlabel='Tariff Plan', ylabel='Average waiting time', title='Average waiting time per tariff (non suspicious ops)', legend=False, color='green')\n",
    "\n",
    "plt.show()"
   ]
  },
  {
   "cell_type": "markdown",
   "id": "88148d3c",
   "metadata": {},
   "source": [
    "## Pruebas de hipótesis"
   ]
  },
  {
   "cell_type": "code",
   "execution_count": 117,
   "id": "f78c05e3",
   "metadata": {},
   "outputs": [],
   "source": [
    "# Funcion para las proporciones (Ztest)\n",
    "\n",
    "alpha = 0.1\n",
    "\n",
    "def propTest(countA, countO, totalA, totalO, altern='two-sided'):\n",
    "    count = [countA, countO]\n",
    "    nobs = [totalA, totalO]\n",
    "\n",
    "    stat, pval = proportions_ztest(count, nobs, alternative=altern)\n",
    "\n",
    "    if pval < alpha:\n",
    "        return (f\"Rechazamos hipótesis nula. Estadistico Z: {stat}, p-val: {pval}\")\n",
    "    else:\n",
    "        return (f\"No podemos rechazar hipótesis nula. Estadistico Z: {stat}, p-val: {pval}\")"
   ]
  },
  {
   "cell_type": "code",
   "execution_count": 118,
   "id": "cd1ad32c",
   "metadata": {},
   "outputs": [],
   "source": [
    "# Definimos variables para las pruebas\n",
    "\n",
    "not_sus_total_calls = df_not_suspicious['calls_count'].sum()\n",
    "not_sus_missed_calls = df_not_suspicious['is_missed_call'].sum()\n",
    "not_sus_internal_calls = df_not_suspicious['internal'].sum()"
   ]
  },
  {
   "cell_type": "markdown",
   "id": "a72d3dda",
   "metadata": {},
   "source": [
    "#### Proporción de llamadas internas.\n",
    "\n",
    "- Ho = La proporcion de llamadas internas no varía o es menor entre los operadores sospechosos y los operadores regulares.\n",
    "- Ha = La proporcion de llamadas internas es mayor entre los operadores sospechosos."
   ]
  },
  {
   "cell_type": "code",
   "execution_count": 119,
   "id": "99fe575c",
   "metadata": {},
   "outputs": [
    {
     "data": {
      "text/plain": [
       "'Rechazamos hipótesis nula. Estadistico Z: 11.76914498937316, p-val: 2.8146069214725265e-32'"
      ]
     },
     "execution_count": 119,
     "metadata": {},
     "output_type": "execute_result"
    }
   ],
   "source": [
    "propTest(sus_internal_calls, not_sus_internal_calls, sus_total_calls, not_sus_total_calls, 'larger')"
   ]
  },
  {
   "cell_type": "markdown",
   "id": "5abc9f3d",
   "metadata": {},
   "source": [
    "    - Con esto concluimos que efectivamente las llamadas internas son mucho más presentes entre nuestros operadores sospechosos. Dando así a entender que probablemente estén usando las llamadas internas para platicar entre compañeros."
   ]
  },
  {
   "cell_type": "markdown",
   "id": "9c1e3837",
   "metadata": {},
   "source": [
    "#### Proporción de llamadas perdidas entre operadores sospechosos y normales\n",
    "\n",
    "- Ho: La proporción de llamadas perdidas entre operadores sospechosos y normales no varía.\n",
    "- Ha: La proporción de llamadas perdidas entre operadores sospechosos y normales, es mayor."
   ]
  },
  {
   "cell_type": "code",
   "execution_count": 120,
   "id": "32c2cf35",
   "metadata": {},
   "outputs": [
    {
     "data": {
      "text/plain": [
       "'Rechazamos hipótesis nula. Estadistico Z: 7.019943331821682, p-val: 1.1097912491906258e-12'"
      ]
     },
     "execution_count": 120,
     "metadata": {},
     "output_type": "execute_result"
    }
   ],
   "source": [
    "propTest(sus_missed_calls, not_sus_missed_calls, sus_total_calls, not_sus_total_calls, 'larger')"
   ]
  },
  {
   "cell_type": "markdown",
   "id": "9212435f",
   "metadata": {},
   "source": [
    "    - Podemos decir con certeza que la proporción de llamadas perdidas para los operadores sospechosos es mayor que el resto"
   ]
  },
  {
   "cell_type": "markdown",
   "id": "24501fc0",
   "metadata": {},
   "source": [
    "#### Promedio en el tiempo de espera entre operadores sospechosos y normales"
   ]
  },
  {
   "cell_type": "markdown",
   "id": "50be0919",
   "metadata": {},
   "source": [
    "- Ho: El promedio de tiempo de espera entre operadores sospechosos y normales no varía.\n",
    "- Ha: El promedio de tiempo de espera entre operadores sospechosos y normales es mayor."
   ]
  },
  {
   "cell_type": "code",
   "execution_count": 121,
   "id": "4333b62c",
   "metadata": {},
   "outputs": [],
   "source": [
    "normal_ops_avg_wait = df_not_suspicious[df_not_suspicious['is_missed_call'] == False]['avg_waiting_time']\n",
    "sus_ops_avg_wait = df_suspicious[df_suspicious['is_missed_call'] == False]['avg_waiting_time']"
   ]
  },
  {
   "cell_type": "code",
   "execution_count": 122,
   "id": "82f07182",
   "metadata": {},
   "outputs": [
    {
     "name": "stdout",
     "output_type": "stream",
     "text": [
      "Estadístico: 235.88067048267504\n",
      "p-valor: 4.942460077403888e-53\n"
     ]
    }
   ],
   "source": [
    "# Levene para comprobar varianzas\n",
    "\n",
    "stat, p_value = levene(normal_ops_avg_wait, sus_ops_avg_wait)\n",
    "\n",
    "print(\"Estadístico:\", stat)\n",
    "print(\"p-valor:\", p_value)"
   ]
  },
  {
   "cell_type": "markdown",
   "id": "1f24550c",
   "metadata": {},
   "source": [
    "    - Con esto, rechazaríamos la hipótesis nula de que ambas varianzas son iguales. "
   ]
  },
  {
   "cell_type": "code",
   "execution_count": 123,
   "id": "d35eed0d",
   "metadata": {},
   "outputs": [
    {
     "name": "stdout",
     "output_type": "stream",
     "text": [
      "t: 5.482051171290669\n",
      "p: 1.1802173989738182e-07\n",
      "Hay diferencia significativa en el promedio de tiempo de espera entre los grupos.\n"
     ]
    }
   ],
   "source": [
    "# Prueba t para dos muestras independientes\n",
    "t_stat, p_value = ttest_ind(sus_ops_avg_wait, normal_ops_avg_wait, equal_var=False, alternative='greater')  \n",
    "\n",
    "print(\"t:\", t_stat)\n",
    "print(\"p:\", p_value)\n",
    "\n",
    "if p_value < alpha:\n",
    "    print(\"Hay diferencia significativa en el promedio de tiempo de espera entre los grupos.\")\n",
    "else:\n",
    "    print(\"No hay diferencia significativa en el promedio de tiempo de espera entre los grupos.\")"
   ]
  },
  {
   "cell_type": "markdown",
   "id": "b4757654",
   "metadata": {},
   "source": [
    "    - Podemos decir con confianza que el tiempo promedio de espera es mayor en el grupo de operadores sospechosos."
   ]
  },
  {
   "cell_type": "markdown",
   "id": "4d7fb7ee",
   "metadata": {},
   "source": [
    "## Conclusiones"
   ]
  },
  {
   "cell_type": "markdown",
   "id": "bb7a08a9",
   "metadata": {},
   "source": [
    "- Debido a los puntos claves iniciales, los operadores de riesgo serian los que tienen los id siguientes:\n",
    "\n",
    "    - Operadores sospechosos para la tarifa A: [924928, 906410]\n",
    "    - Operadores sospechosos para la tarifa B: [920902]\n",
    "    - Operadores sospechosos para la tarifa C: [888406]"
   ]
  },
  {
   "cell_type": "markdown",
   "id": "82882f9f",
   "metadata": {},
   "source": [
    "- Con estos operadores valdría la pena identificar quiénes son y monitorear de cerca su desempeño en los próximos días.\n",
    "- Los planes B y C tienen también la mayor cantidad de operadores telefónicos.\n",
    "- Curiosamente, aunque haya menos operadores en el plan tarifario A, es donde hay más operadores sospechosos.\n",
    "- El plan C es el plan más contratado por los clientes.\n"
   ]
  },
  {
   "cell_type": "markdown",
   "id": "e6b5072d",
   "metadata": {},
   "source": [
    "- Para los operadores sospechosos, quizá una recomendación podría ser retirarles las llamadas internas, para evitar que hagan mal uso de ellas al estar hablando con sus compañeros.\n",
    "- Así mismo, valdría la pena realizar monitoreos constantes para asegurarse de que ni pierden llamadas ni tardan mucho en contestar las que les llegan."
   ]
  }
 ],
 "metadata": {
  "kernelspec": {
   "display_name": "Python 3",
   "language": "python",
   "name": "python3"
  },
  "language_info": {
   "codemirror_mode": {
    "name": "ipython",
    "version": 3
   },
   "file_extension": ".py",
   "mimetype": "text/x-python",
   "name": "python",
   "nbconvert_exporter": "python",
   "pygments_lexer": "ipython3",
   "version": "3.12.6"
  }
 },
 "nbformat": 4,
 "nbformat_minor": 5
}
